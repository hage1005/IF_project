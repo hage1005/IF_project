{
  "cells": [
    {
      "cell_type": "markdown",
      "metadata": {
        "id": "I1-w8h5C-NWR"
      },
      "source": [
        "# Logistic Regression vs LOOT"
      ]
    },
    {
      "cell_type": "code",
      "execution_count": 61,
      "metadata": {
        "id": "S5sDBrMB-B36"
      },
      "outputs": [],
      "source": [
        "import numpy as np\n",
        "import pandas as pd\n",
        "import matplotlib.pyplot as plt\n",
        "from matplotlib.pyplot import scatter\n",
        "\n",
        "import torch\n",
        "import torch.nn as nn\n",
        "import torchvision\n",
        "import torchvision.transforms as transforms\n",
        "from torch.utils.data import Dataset, DataLoader\n",
        "from torch.autograd.functional import hessian\n",
        "import torch.nn.functional as F\n",
        "\n",
        "device = torch.device(\"cuda\" if torch.cuda.is_available() else \"cpu\")"
      ]
    },
    {
      "cell_type": "markdown",
      "metadata": {
        "id": "55U58nzV-xw-"
      },
      "source": [
        "## Set up before training"
      ]
    },
    {
      "cell_type": "code",
      "execution_count": 66,
      "metadata": {
        "id": "Dusr6ng0-w5I"
      },
      "outputs": [],
      "source": [
        "train_dataset = torchvision.datasets.MNIST(root=\"./data\", train=True, transform=transforms.ToTensor(), download = True)\n",
        "test_dataset = torchvision.datasets.MNIST(root=\"./data\", train=False, transform=transforms.ToTensor(), download = True)"
      ]
    },
    {
      "cell_type": "code",
      "execution_count": 72,
      "metadata": {
        "id": "XythzaB0-w73"
      },
      "outputs": [],
      "source": [
        "input_size = 784\n",
        "num_classes = 10\n",
        "num_epochs = 15\n",
        "batch_size = 100\n",
        "learning_rate = 0.001\n",
        "\n",
        "training_size = 60000\n",
        "testing_size = 10000\n",
        "\n",
        "np.random.seed(35)\n",
        "#training_selector = np.random.choice(range(60000), replace = False, size = training_size)\n",
        "#testing_selector = np.random.choice(range(10000), replace = False, size = testing_size)\n",
        "training_selector = np.arange(60000)\n",
        "testing_selector = np.arange(10000)\n",
        "\n",
        "class Alpha_Train_Dataset(Dataset):\n",
        "  def __init__(self):\n",
        "      \n",
        "      self.x = train_dataset.data[training_selector].float()\n",
        "      self.y = train_dataset.targets[training_selector]\n",
        "      \n",
        "      #self.n_samples = int(train_dataset.data.shape[0]*alpha)\n",
        "      self.n_samples = len(training_selector)\n",
        "\n",
        "  def __getitem__(self, index):\n",
        "      return self.x[index], self.y[index]\n",
        "  def __len__(self):\n",
        "      return self.n_samples\n",
        "\n",
        "class Alpha_Test_Dataset(Dataset):\n",
        "  def __init__(self):\n",
        "      \n",
        "      self.x = test_dataset.data[testing_selector].float()#[random_selector].float()\n",
        "      self.y = test_dataset.targets[testing_selector]#[random_selector]\n",
        "      \n",
        "      self.n_samples = len(testing_selector)\n",
        "\n",
        "  def __getitem__(self, index):\n",
        "      return self.x[index], self.y[index]\n",
        "  def __len__(self):\n",
        "      return self.n_samples\n",
        "\n",
        "class NeuralNet(nn.Module):\n",
        "  def __init__(self, input_size, num_classes):\n",
        "    super(NeuralNet, self).__init__()\n",
        "    self.l1 = nn.Linear(input_size, num_classes, bias = False)\n",
        "  \n",
        "  def forward(self, x):\n",
        "    out = self.l1(x)\n",
        "    return out"
      ]
    },
    {
      "cell_type": "markdown",
      "metadata": {
        "id": "FonBPwQr_fNK"
      },
      "source": [
        "## Training"
      ]
    },
    {
      "cell_type": "code",
      "execution_count": 73,
      "metadata": {
        "id": "Wd0Pv3rd-w_s"
      },
      "outputs": [],
      "source": [
        "alpha_train_dataset = Alpha_Train_Dataset()\n",
        "train_loader = torch.utils.data.DataLoader(dataset=alpha_train_dataset, batch_size=batch_size, shuffle=True)\n",
        "\n",
        "model = NeuralNet(input_size, num_classes).to(device)\n",
        "criterion = nn.CrossEntropyLoss()\n",
        "optimizer = torch.optim.SGD(model.parameters(), lr = learning_rate)\n",
        "\n",
        "for epoch in range(num_epochs):\n",
        "    for i, (images, labels) in enumerate(train_loader):\n",
        "        # 100, 1, 28, 28\n",
        "        #images = images.reshape(-1, 28*28).to(device) # can change -1 to 100\n",
        "        images = ((images.reshape(-1, 28*28)/255- 0.1307)/0.3081).to(device)\n",
        "        labels = labels.to(device)\n",
        "\n",
        "        # forward\n",
        "        outputs = model(images)\n",
        "        loss = criterion(outputs, labels)\n",
        "\n",
        "        # backward\n",
        "        optimizer.zero_grad()\n",
        "        loss.backward()\n",
        "        optimizer.step()\n",
        "\n",
        "alpha_test_dataset = Alpha_Test_Dataset()\n",
        "test_loader = torch.utils.data.DataLoader(dataset=alpha_test_dataset, batch_size=1, shuffle=False)\n",
        "\n",
        "misclassified_lst = []\n",
        "\n",
        "with torch.no_grad():\n",
        "    n_correct = 0\n",
        "    n_samples = 0\n",
        "    counter = 0\n",
        "    for images, labels in test_loader:\n",
        "        # 把一个batch reshape 成一个 100 by 784 的 vector 来做prediction\n",
        "        #images = images.reshape(-1, 28*28).to(device)\n",
        "        images = ((images.reshape(-1, 28*28)/255- 0.1307)/0.3081).to(device)\n",
        "        labels = labels.to(device)\n",
        "        output = model(images)\n",
        "        # value, index\n",
        "        _, predictions = torch.max(output, 1)\n",
        "        n_samples += labels.shape[0]\n",
        "        n_correct += (predictions == labels).sum().item()\n",
        "\n",
        "        if (predictions == labels).sum().item() == 0:\n",
        "            misclassified_lst.append(counter)\n",
        "        counter += 1\n",
        "\n",
        "    acc = 100 * n_correct/n_samples"
      ]
    },
    {
      "cell_type": "code",
      "execution_count": 74,
      "metadata": {
        "colab": {
          "base_uri": "https://localhost:8080/"
        },
        "id": "YuIH_1hW-B7X",
        "outputId": "b5e9422d-c603-4eea-ea12-ca4aa79b7aef"
      },
      "outputs": [
        {
          "data": {
            "text/plain": [
              "90.73"
            ]
          },
          "execution_count": 74,
          "metadata": {},
          "output_type": "execute_result"
        }
      ],
      "source": [
        "acc"
      ]
    },
    {
      "cell_type": "markdown",
      "metadata": {
        "id": "0uyYNTISAXeA"
      },
      "source": [
        "## Calculate Inverse Hessian"
      ]
    },
    {
      "cell_type": "code",
      "execution_count": 87,
      "metadata": {
        "id": "R3hYaU02AmIp"
      },
      "outputs": [],
      "source": [
        "w = torch.cat(tuple([_.view(-1) for _ in model.parameters()])).detach()"
      ]
    },
    {
      "cell_type": "code",
      "execution_count": 88,
      "metadata": {
        "id": "WZD8emIz_4jz"
      },
      "outputs": [],
      "source": [
        "def logistics_regression_loss_all(w):\n",
        "    \n",
        "    #w = w.clone().detach().requires_grad_(True)\n",
        "\n",
        "    train_loader = torch.utils.data.DataLoader(dataset=alpha_train_dataset, batch_size=training_size, shuffle=False)\n",
        "    examples = iter(train_loader)\n",
        "    images, labels = examples.next()\n",
        "\n",
        "    images = ((images.reshape(-1, 28*28)/255- 0.1307)/0.3081).to(device)\n",
        "\n",
        "    out1 = F.linear(images, w.reshape(10,784))\n",
        "\n",
        "    loss = criterion(out1, labels.to(device))*training_size\n",
        "\n",
        "    return loss"
      ]
    },
    {
      "cell_type": "code",
      "execution_count": 89,
      "metadata": {
        "id": "9Ej_c0gYBhAj"
      },
      "outputs": [],
      "source": [
        "with torch.no_grad():\n",
        "   Hessian = hessian(logistics_regression_loss_all, w)/training_size"
      ]
    },
    {
      "cell_type": "code",
      "execution_count": 90,
      "metadata": {
        "id": "Zb297g35AZiA"
      },
      "outputs": [],
      "source": [
        "damping_matrix = torch.tensor(np.diag(np.full(Hessian.shape[0],0.001),0)).to(device)\n",
        "damping_hessian = Hessian + damping_matrix\n",
        "inv_hessian = torch.linalg.inv(damping_hessian)"
      ]
    },
    {
      "cell_type": "markdown",
      "metadata": {
        "id": "Rh74FDddC-I1"
      },
      "source": [
        "## Calculate gradient at single point"
      ]
    },
    {
      "cell_type": "code",
      "execution_count": 91,
      "metadata": {
        "id": "IbdQzj4nC5Vu"
      },
      "outputs": [],
      "source": [
        "def loss_grad_at_point(w, train_point):\n",
        "    # w should be torch.cat(tuple([_.view(-1) for _ in model.parameters()]))\n",
        "    # train_point should be alpha_train_dataset[0], a tuple of image and label\n",
        "\n",
        "    w = w.clone().detach().requires_grad_(True)\n",
        "\n",
        "    images = ((train_point[0].reshape(-1, 28*28)/255- 0.1307)/0.3081).to(device)\n",
        "\n",
        "    out1 = F.linear(images, w.reshape(10,784))\n",
        "\n",
        "    loss = criterion(out1, torch.tensor([train_point[1]]).to(device))\n",
        "    loss.backward()\n",
        "\n",
        "    return w.grad"
      ]
    },
    {
      "cell_type": "markdown",
      "metadata": {
        "id": "3JlXjd4xDlDl"
      },
      "source": [
        "## Define a test point"
      ]
    },
    {
      "cell_type": "code",
      "execution_count": 85,
      "metadata": {
        "colab": {
          "base_uri": "https://localhost:8080/"
        },
        "id": "cUTW6XdzWCbG",
        "outputId": "2fbab73b-bc96-4217-dc1d-d4c96b64ddef"
      },
      "outputs": [
        {
          "data": {
            "text/plain": [
              "80"
            ]
          },
          "execution_count": 85,
          "metadata": {},
          "output_type": "execute_result"
        }
      ],
      "source": [
        "misclassified_lst[5]"
      ]
    },
    {
      "cell_type": "code",
      "execution_count": 94,
      "metadata": {
        "colab": {
          "base_uri": "https://localhost:8080/",
          "height": 282
        },
        "id": "TblBzrxhDhog",
        "outputId": "b4d96180-835d-4489-d2ed-8b5add6ae4a1"
      },
      "outputs": [
        {
          "data": {
            "text/plain": [
              "<matplotlib.image.AxesImage at 0x7f4301abccd0>"
            ]
          },
          "execution_count": 94,
          "metadata": {},
          "output_type": "execute_result"
        },
        {
          "data": {
            "image/png": "[encoded data removed]",
            "text/plain": [
              "<Figure size 432x288 with 1 Axes>"
            ]
          },
          "metadata": {
            "needs_background": "light"
          },
          "output_type": "display_data"
        }
      ],
      "source": [
        "test_point = (test_dataset.data[80].float(), test_dataset.targets[80])\n",
        "plt.imshow(alpha_test_dataset[80][0], cmap = \"gray\")"
      ]
    },
    {
      "cell_type": "markdown",
      "metadata": {
        "id": "Vp_zlX6oDt0V"
      },
      "source": [
        "## Calculate IF scores"
      ]
    },
    {
      "cell_type": "code",
      "execution_count": 93,
      "metadata": {
        "id": "t-5Buwd0DsJ5"
      },
      "outputs": [],
      "source": [
        "def calculate_if(train_point, test_point, inv_Hessian):\n",
        "    # test point should be alpha_test_dataset[10]\n",
        "\n",
        "    test_loss = loss_grad_at_point(w, test_point)#.to(\"cpu\").numpy()\n",
        "\n",
        "    train_loss = loss_grad_at_point(w, train_point)#.to(\"cpu\").numpy()\n",
        "\n",
        "    if_score = -torch.matmul(torch.matmul(test_loss.t(), inv_Hessian), train_loss)\n",
        "\n",
        "    return if_score"
      ]
    },
    {
      "cell_type": "code",
      "execution_count": 95,
      "metadata": {
        "colab": {
          "base_uri": "https://localhost:8080/"
        },
        "id": "Rm9-BDSUD5oH",
        "outputId": "c22bef4f-1a4c-4ebd-8c5c-94b9322ac849"
      },
      "outputs": [
        {
          "name": "stdout",
          "output_type": "stream",
          "text": [
            "10000/60000 complete\n",
            "20000/60000 complete\n",
            "30000/60000 complete\n",
            "40000/60000 complete\n",
            "50000/60000 complete\n",
            "60000/60000 complete\n"
          ]
        }
      ],
      "source": [
        "test_point = (test_dataset.data[80].float(), test_dataset.targets[80])\n",
        "if_score_list = []\n",
        "for i in range(training_size):\n",
        "    train_point = (train_dataset.data[i].float(), train_dataset.targets[i])\n",
        "    if_score = calculate_if(train_point, test_point, inv_hessian.float())\n",
        "    if_score_list.append(if_score)\n",
        "    if (i+1) % 10000 == 0:\n",
        "        print(f\"{i+1}/60000 complete\")"
      ]
    },
    {
      "cell_type": "markdown",
      "metadata": {
        "id": "ZAsmEpP8ENgw"
      },
      "source": [
        "## Result"
      ]
    },
    {
      "cell_type": "code",
      "execution_count": 96,
      "metadata": {
        "id": "NjfhjB3vEA9X"
      },
      "outputs": [],
      "source": [
        "if_score_series = pd.Series(torch.tensor(if_score_list).to(\"cpu\"))\n",
        "if_score_series_sorted = if_score_series.sort_values(ascending = False)"
      ]
    },
    {
      "cell_type": "code",
      "execution_count": 97,
      "metadata": {
        "colab": {
          "base_uri": "https://localhost:8080/",
          "height": 282
        },
        "id": "twNUESzMFEFr",
        "outputId": "2fb1b554-b77f-4cdc-e48b-a4402a2554b6"
      },
      "outputs": [
        {
          "data": {
            "text/plain": [
              "<matplotlib.image.AxesImage at 0x7f4304780650>"
            ]
          },
          "execution_count": 97,
          "metadata": {},
          "output_type": "execute_result"
        },
        {
          "data": {
            "image/png": "[encoded data removed]",
            "text/plain": [
              "<Figure size 432x288 with 1 Axes>"
            ]
          },
          "metadata": {
            "needs_background": "light"
          },
          "output_type": "display_data"
        }
      ],
      "source": [
        "test_point = (test_dataset.data[80].float(), test_dataset.targets[80])\n",
        "plt.imshow(test_dataset.data[80], cmap = \"gray\")"
      ]
    },
    {
      "cell_type": "code",
      "execution_count": 98,
      "metadata": {
        "colab": {
          "base_uri": "https://localhost:8080/",
          "height": 298
        },
        "id": "Uqm3VMsLEVUo",
        "outputId": "cb8c1a4e-9f0d-459e-c3ee-355cc89b60ca"
      },
      "outputs": [
        {
          "data": {
            "text/plain": [
              "Text(0.5, 1.0, '7')"
            ]
          },
          "execution_count": 98,
          "metadata": {},
          "output_type": "execute_result"
        },
        {
          "data": {
            "image/png": "[encoded data removed]",
            "text/plain": [
              "<Figure size 432x288 with 6 Axes>"
            ]
          },
          "metadata": {
            "needs_background": "light"
          },
          "output_type": "display_data"
        }
      ],
      "source": [
        "fig, axs = plt.subplots(2, 3)\n",
        "axs[0][0].imshow(train_dataset.data[if_score_series_sorted.index[0]], cmap = \"gray\")\n",
        "axs[0][1].imshow(train_dataset.data[if_score_series_sorted.index[1]], cmap = \"gray\")\n",
        "axs[0][2].imshow(train_dataset.data[if_score_series_sorted.index[2]], cmap = \"gray\")\n",
        "axs[1][0].imshow(train_dataset.data[if_score_series_sorted.index[-1]], cmap = \"gray\")\n",
        "axs[1][1].imshow(train_dataset.data[if_score_series_sorted.index[-2]], cmap = \"gray\")\n",
        "axs[1][2].imshow(train_dataset.data[if_score_series_sorted.index[-3]], cmap = \"gray\")\n",
        "#alpha_train_dataset[if_score_series_sorted.index[-1]][0]\n",
        "\n",
        "axs[0, 0].set_title(str(train_dataset.targets[if_score_series_sorted.index[0]].item()))\n",
        "axs[0, 1].set_title(str(train_dataset.targets[if_score_series_sorted.index[1]].item()))\n",
        "axs[0, 2].set_title(str(train_dataset.targets[if_score_series_sorted.index[2]].item()))\n",
        "axs[1, 0].set_title(str(train_dataset.targets[if_score_series_sorted.index[-1]].item()))\n",
        "axs[1, 1].set_title(str(train_dataset.targets[if_score_series_sorted.index[-2]].item()))\n",
        "axs[1, 2].set_title(str(train_dataset.targets[if_score_series_sorted.index[-3]].item()))"
      ]
    },
    {
      "cell_type": "markdown",
      "metadata": {
        "id": "czFz4ntzGB3R"
      },
      "source": [
        "## Compare with leave one out training"
      ]
    },
    {
      "cell_type": "code",
      "execution_count": 99,
      "metadata": {
        "id": "rWZXUd23E54M"
      },
      "outputs": [],
      "source": [
        "idx_to_remove = np.array(if_score_series_sorted.apply(lambda x: abs(x)).sort_values(ascending = False).index[:50])"
      ]
    },
    {
      "cell_type": "code",
      "execution_count": 100,
      "metadata": {
        "id": "mozYI15PGFT7"
      },
      "outputs": [],
      "source": [
        "diff_in_loss_by_if = np.array(if_score_series[idx_to_remove]/(-60000))"
      ]
    },
    {
      "cell_type": "markdown",
      "metadata": {
        "id": "3D62i0N1IbHf"
      },
      "source": [
        "### Define dataset and find original test loss"
      ]
    },
    {
      "cell_type": "code",
      "execution_count": 101,
      "metadata": {
        "id": "l27oRGheGFWG"
      },
      "outputs": [],
      "source": [
        "class One_Out_Train_Dataset(Dataset):\n",
        "  def __init__(self, training_selector):\n",
        "      \n",
        "      self.x = train_dataset.data[training_selector].float()\n",
        "      self.y = train_dataset.targets[training_selector]\n",
        "      \n",
        "      #self.n_samples = int(train_dataset.data.shape[0]*alpha)\n",
        "      self.n_samples = len(training_selector)\n",
        "\n",
        "  def __getitem__(self, index):\n",
        "      return self.x[index], self.y[index]\n",
        "  def __len__(self):\n",
        "      return self.n_samples\n",
        "\n",
        "class Alpha_Test_Dataset(Dataset):\n",
        "  def __init__(self):\n",
        "      \n",
        "      self.x = test_dataset.data[testing_selector].float()#[random_selector].float()\n",
        "      self.y = test_dataset.targets[testing_selector]#[random_selector]\n",
        "      \n",
        "      self.n_samples = len(testing_selector)\n",
        "\n",
        "  def __getitem__(self, index):\n",
        "      return self.x[index], self.y[index]\n",
        "  def __len__(self):\n",
        "      return self.n_samples"
      ]
    },
    {
      "cell_type": "code",
      "execution_count": 102,
      "metadata": {
        "id": "hFpVPZ-hGn9x"
      },
      "outputs": [],
      "source": [
        "test_point = (test_dataset.data[80].float(), test_dataset.targets[80])\n",
        "test_image = ((test_point[0].reshape(-1, 28*28)/255- 0.1307)/0.3081).to(device)\n",
        "test_label = torch.tensor([test_point[1]]).to(device)"
      ]
    },
    {
      "cell_type": "code",
      "execution_count": 103,
      "metadata": {
        "id": "jIdRlGCBHMUJ"
      },
      "outputs": [],
      "source": [
        "def loss_at_point(w, train_point):\n",
        "    # w should be torch.cat(tuple([_.view(-1) for _ in model.parameters()]))\n",
        "    # train_point should be alpha_train_dataset[0], a tuple of image and label\n",
        "\n",
        "    images = ((train_point[0].reshape(-1, 28*28)/255- 0.1307)/0.3081).to(device)\n",
        "\n",
        "    out1 = F.linear(images, w.reshape(10,784))\n",
        "\n",
        "    loss = criterion(out1, torch.tensor([train_point[1]]).to(device))\n",
        "\n",
        "    return loss"
      ]
    },
    {
      "cell_type": "code",
      "execution_count": 104,
      "metadata": {
        "id": "-Lg_ykUEGoAv"
      },
      "outputs": [],
      "source": [
        "original_test_loss = loss_at_point(w, test_point).item()"
      ]
    },
    {
      "cell_type": "markdown",
      "metadata": {
        "id": "pc7OWdEBIR5v"
      },
      "source": [
        "### Calculate loss without one training point"
      ]
    },
    {
      "cell_type": "code",
      "execution_count": 106,
      "metadata": {
        "colab": {
          "base_uri": "https://localhost:8080/"
        },
        "id": "luPhOM5vHkAg",
        "outputId": "dd059cd5-37f5-4d74-a1a0-227f1e484feb"
      },
      "outputs": [
        {
          "name": "stdout",
          "output_type": "stream",
          "text": [
            "1/50 complete\n",
            "2/50 complete\n",
            "3/50 complete\n",
            "4/50 complete\n",
            "5/50 complete\n",
            "6/50 complete\n",
            "7/50 complete\n",
            "8/50 complete\n",
            "9/50 complete\n",
            "10/50 complete\n",
            "11/50 complete\n",
            "12/50 complete\n",
            "13/50 complete\n",
            "14/50 complete\n",
            "15/50 complete\n",
            "16/50 complete\n",
            "17/50 complete\n",
            "18/50 complete\n",
            "19/50 complete\n",
            "20/50 complete\n",
            "21/50 complete\n",
            "22/50 complete\n",
            "23/50 complete\n",
            "24/50 complete\n",
            "25/50 complete\n",
            "26/50 complete\n",
            "27/50 complete\n",
            "28/50 complete\n",
            "29/50 complete\n",
            "30/50 complete\n",
            "31/50 complete\n",
            "32/50 complete\n",
            "33/50 complete\n",
            "34/50 complete\n",
            "35/50 complete\n",
            "36/50 complete\n",
            "37/50 complete\n",
            "38/50 complete\n",
            "39/50 complete\n",
            "40/50 complete\n",
            "41/50 complete\n",
            "42/50 complete\n",
            "43/50 complete\n",
            "44/50 complete\n",
            "45/50 complete\n",
            "46/50 complete\n",
            "47/50 complete\n",
            "48/50 complete\n",
            "49/50 complete\n",
            "50/50 complete\n"
          ]
        }
      ],
      "source": [
        "change_in_loss_lst = []\n",
        "counter = 0\n",
        "for idx in idx_to_remove:\n",
        "    training_selector = np.concatenate((np.arange(0,idx), np.arange(idx+1,60000)))\n",
        "\n",
        "    alpha_train_dataset = One_Out_Train_Dataset(training_selector)\n",
        "\n",
        "    train_loader = torch.utils.data.DataLoader(dataset=alpha_train_dataset, batch_size=batch_size, shuffle=True)\n",
        "\n",
        "    model = NeuralNet(input_size, num_classes).to(device)\n",
        "    criterion = nn.CrossEntropyLoss()\n",
        "    optimizer = torch.optim.SGD(model.parameters(), lr = learning_rate)\n",
        "\n",
        "    for epoch in range(num_epochs):\n",
        "        for i, (images, labels) in enumerate(train_loader):\n",
        "            # 100, 1, 28, 28\n",
        "            images = ((images.reshape(-1, 28*28)/255- 0.1307)/0.3081).to(device)\n",
        "            labels = labels.to(device)\n",
        "\n",
        "            # forward\n",
        "            outputs = model(images)\n",
        "            loss = criterion(outputs, labels)\n",
        "\n",
        "            # backward\n",
        "            optimizer.zero_grad()\n",
        "            loss.backward()\n",
        "            optimizer.step()\n",
        "\n",
        "    with torch.no_grad():\n",
        "        test_output = model(test_image)\n",
        "        test_loss = criterion(test_output, test_label)\n",
        "        change_in_loss_lst.append(test_loss.item() - original_test_loss)\n",
        "        counter = counter + 1\n",
        "        print(f\"{counter}/50 complete\")"
      ]
    },
    {
      "cell_type": "code",
      "execution_count": 107,
      "metadata": {
        "colab": {
          "base_uri": "https://localhost:8080/",
          "height": 282
        },
        "id": "FbqeGU1QLyI9",
        "outputId": "44de3027-25d8-49d5-edfd-a009ad9c557c"
      },
      "outputs": [
        {
          "data": {
            "text/plain": [
              "<matplotlib.collections.PathCollection at 0x7f430172c750>"
            ]
          },
          "execution_count": 107,
          "metadata": {},
          "output_type": "execute_result"
        },
        {
          "data": {
            "image/png": "[encoded data removed]",
            "text/plain": [
              "<Figure size 432x288 with 1 Axes>"
            ]
          },
          "metadata": {
            "needs_background": "light"
          },
          "output_type": "display_data"
        }
      ],
      "source": [
        "change_in_loss_array = np.array(change_in_loss_lst)\n",
        "scatter(change_in_loss_array, diff_in_loss_by_if)"
      ]
    },
    {
      "cell_type": "code",
      "execution_count": null,
      "metadata": {
        "id": "5_QRzMqEMDki"
      },
      "outputs": [],
      "source": []
    }
  ],
  "metadata": {
    "accelerator": "GPU",
    "colab": {
      "collapsed_sections": [
        "55U58nzV-xw-",
        "FonBPwQr_fNK",
        "0uyYNTISAXeA",
        "Rh74FDddC-I1",
        "3JlXjd4xDlDl",
        "Vp_zlX6oDt0V"
      ],
      "machine_shape": "hm",
      "name": "Influence_function_cleaned.ipynb",
      "provenance": []
    },
    "gpuClass": "standard",
    "kernelspec": {
      "display_name": "Python 3.8.13 ('IFv2')",
      "language": "python",
      "name": "python3"
    },
    "language_info": {
      "name": "python",
      "version": "3.8.13"
    },
    "vscode": {
      "interpreter": {
        "hash": "4edf35c6e4e37e46aba81f520fc7518843d6bc5f0704626bcb4990959556ef9c"
      }
    }
  },
  "nbformat": 4,
  "nbformat_minor": 0
}
