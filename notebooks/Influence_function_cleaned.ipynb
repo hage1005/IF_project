{
  "nbformat": 4,
  "nbformat_minor": 0,
  "metadata": {
    "colab": {
      "name": "Influence_function_cleaned.ipynb",
      "provenance": [],
      "collapsed_sections": [
        "a-C-UF7tgUwD"
      ],
      "machine_shape": "hm"
    },
    "kernelspec": {
      "name": "python3",
      "display_name": "Python 3"
    },
    "language_info": {
      "name": "python"
    },
    "accelerator": "GPU",
    "gpuClass": "standard"
  },
  "cells": [
    {
      "cell_type": "markdown",
      "source": [
        "# Logistic Regression vs LOOT"
      ],
      "metadata": {
        "id": "I1-w8h5C-NWR"
      }
    },
    {
      "cell_type": "code",
      "source": [
        "import numpy as np\n",
        "import pandas as pd\n",
        "import matplotlib.pyplot as plt\n",
        "from matplotlib.pyplot import scatter\n",
        "\n",
        "import torch\n",
        "import torch.nn as nn\n",
        "import torchvision\n",
        "import torchvision.transforms as transforms\n",
        "from torch.utils.data import Dataset, DataLoader\n",
        "from torch.autograd.functional import hessian\n",
        "import torch.nn.functional as F\n",
        "\n",
        "device = torch.device(\"cuda\" if torch.cuda.is_available() else \"cpu\")"
      ],
      "metadata": {
        "id": "S5sDBrMB-B36"
      },
      "execution_count": null,
      "outputs": []
    },
    {
      "cell_type": "markdown",
      "source": [
        "## Set up before training"
      ],
      "metadata": {
        "id": "55U58nzV-xw-"
      }
    },
    {
      "cell_type": "code",
      "source": [
        "#transforms_MNIST = transforms.Compose([transforms.ToTensor(), transforms.Normalize(mean = (0.1307,), std = (0.3081,))])\n",
        "\n",
        "train_dataset = torchvision.datasets.MNIST(root=\"./data\", train=True, transform=transforms.ToTensor(), download = True)\n",
        "test_dataset = torchvision.datasets.MNIST(root=\"./data\", train=False, transform=transforms.ToTensor(), download = True)"
      ],
      "metadata": {
        "id": "Dusr6ng0-w5I"
      },
      "execution_count": null,
      "outputs": []
    },
    {
      "cell_type": "code",
      "source": [
        "input_size = 784\n",
        "num_classes = 10\n",
        "num_epochs = 20 # can change\n",
        "batch_size = 100 # can change\n",
        "learning_rate = 0.001 # can change\n",
        "\n",
        "training_size = 6000 # use a smaller dataset for faster computation\n",
        "testing_size = 1000\n",
        "\n",
        "#training_selector = np.random.choice(range(60000), replace = False, size = training_size)\n",
        "#testing_selector = np.random.choice(range(10000), replace = False, size = testing_size)\n",
        "training_selector = np.arange(training_size)\n",
        "testing_selector = np.arange(testing_size)\n",
        "\n",
        "class Alpha_Train_Dataset(Dataset):\n",
        "  def __init__(self):\n",
        "      \n",
        "      self.x = train_dataset.data[training_selector].float()\n",
        "      self.y = train_dataset.targets[training_selector]\n",
        "      \n",
        "      #self.n_samples = int(train_dataset.data.shape[0]*alpha)\n",
        "      self.n_samples = len(training_selector)\n",
        "\n",
        "  def __getitem__(self, index):\n",
        "      return self.x[index], self.y[index]\n",
        "  def __len__(self):\n",
        "      return self.n_samples\n",
        "\n",
        "class Alpha_Test_Dataset(Dataset):\n",
        "  def __init__(self):\n",
        "      \n",
        "      self.x = test_dataset.data[testing_selector].float()#[random_selector].float()\n",
        "      self.y = test_dataset.targets[testing_selector]#[random_selector]\n",
        "      \n",
        "      self.n_samples = len(testing_selector)\n",
        "\n",
        "  def __getitem__(self, index):\n",
        "      return self.x[index], self.y[index]\n",
        "  def __len__(self):\n",
        "      return self.n_samples\n",
        "\n",
        "class NeuralNet(nn.Module):\n",
        "  def __init__(self, input_size, num_classes):\n",
        "    super(NeuralNet, self).__init__()\n",
        "    self.l1 = nn.Linear(input_size, num_classes, bias = False)\n",
        "  \n",
        "  def forward(self, x):\n",
        "    out = self.l1(x)\n",
        "    return out"
      ],
      "metadata": {
        "id": "XythzaB0-w73"
      },
      "execution_count": null,
      "outputs": []
    },
    {
      "cell_type": "markdown",
      "source": [
        "## Training"
      ],
      "metadata": {
        "id": "FonBPwQr_fNK"
      }
    },
    {
      "cell_type": "code",
      "source": [
        "alpha_train_dataset = Alpha_Train_Dataset()\n",
        "train_loader = torch.utils.data.DataLoader(dataset=alpha_train_dataset, batch_size=batch_size, shuffle=True)\n",
        "\n",
        "model = NeuralNet(input_size, num_classes).to(device)\n",
        "criterion = nn.CrossEntropyLoss()\n",
        "optimizer = torch.optim.SGD(model.parameters(), lr = learning_rate, momentum=0.9)\n",
        "\n",
        "for epoch in range(num_epochs):\n",
        "    for i, (images, labels) in enumerate(train_loader):\n",
        "        # randn term doesn't matter, can delete\n",
        "        images = ((images.reshape(-1, 28*28)/255- 0.1307)/0.3081 + torch.randn(batch_size, 784)/100).to(device)\n",
        "        labels = labels.to(device)\n",
        "\n",
        "        # forward\n",
        "        outputs = model(images)\n",
        "        loss = criterion(outputs, labels)\n",
        "\n",
        "        # add l2 regularization\n",
        "        l2_lambda = 0.005\n",
        "        l2_norm = sum(p.pow(2.0).sum() for p in model.parameters())\n",
        " \n",
        "        loss = loss + l2_lambda * l2_norm\n",
        "\n",
        "        # backward\n",
        "        optimizer.zero_grad()\n",
        "        loss.backward()\n",
        "        optimizer.step()\n",
        "\n",
        "alpha_test_dataset = Alpha_Test_Dataset()\n",
        "test_loader = torch.utils.data.DataLoader(dataset=alpha_test_dataset, batch_size=1, shuffle=False)\n",
        "\n",
        "misclassified_lst = []\n",
        "\n",
        "with torch.no_grad():\n",
        "    n_correct = 0\n",
        "    n_samples = 0\n",
        "    counter = 0\n",
        "    for images, labels in test_loader:\n",
        "        images = ((images.reshape(-1, 28*28)/255- 0.1307)/0.3081).to(device)\n",
        "        labels = labels.to(device)\n",
        "        output = model(images)\n",
        "        # value, index\n",
        "        _, predictions = torch.max(output, 1)\n",
        "        n_samples += labels.shape[0]\n",
        "        n_correct += (predictions == labels).sum().item()\n",
        "\n",
        "        if (predictions == labels).sum().item() == 0:\n",
        "            misclassified_lst.append(counter)\n",
        "        counter += 1\n",
        "\n",
        "    acc = 100 * n_correct/n_samples"
      ],
      "metadata": {
        "id": "Wd0Pv3rd-w_s"
      },
      "execution_count": null,
      "outputs": []
    },
    {
      "cell_type": "code",
      "source": [
        "acc"
      ],
      "metadata": {
        "colab": {
          "base_uri": "https://localhost:8080/"
        },
        "id": "YuIH_1hW-B7X",
        "outputId": "bd960110-eb61-44d8-91e2-ab51766161b0"
      },
      "execution_count": null,
      "outputs": [
        {
          "output_type": "execute_result",
          "data": {
            "text/plain": [
              "89.4"
            ]
          },
          "metadata": {},
          "execution_count": 58
        }
      ]
    },
    {
      "cell_type": "markdown",
      "source": [
        "## Calculate Inverse Hessian"
      ],
      "metadata": {
        "id": "0uyYNTISAXeA"
      }
    },
    {
      "cell_type": "code",
      "source": [
        "with torch.no_grad():\n",
        "    w = torch.cat(tuple([_.view(-1) for _ in model.parameters()])).detach()"
      ],
      "metadata": {
        "id": "R3hYaU02AmIp"
      },
      "execution_count": null,
      "outputs": []
    },
    {
      "cell_type": "code",
      "source": [
        "def logistics_regression_loss_all(w):\n",
        "    \n",
        "    #w = w.clone().detach().requires_grad_(True)\n",
        "\n",
        "    train_loader = torch.utils.data.DataLoader(dataset=alpha_train_dataset, batch_size=training_size, shuffle=False)\n",
        "    examples = iter(train_loader)\n",
        "    images, labels = examples.next()\n",
        "\n",
        "    images = ((images.reshape(-1, 28*28)/255- 0.1307)/0.3081).to(device)\n",
        "\n",
        "    out1 = F.linear(images, w.reshape(10,784))\n",
        "\n",
        "    loss = criterion(out1, labels.to(device))\n",
        "\n",
        "    l2_lambda = 0.005\n",
        "    l2_norm = sum(w.pow(2.0))\n",
        " \n",
        "    loss = loss + l2_lambda * l2_norm\n",
        "\n",
        "    loss = loss*training_size\n",
        "\n",
        "\n",
        "    return loss"
      ],
      "metadata": {
        "id": "WZD8emIz_4jz"
      },
      "execution_count": null,
      "outputs": []
    },
    {
      "cell_type": "code",
      "source": [
        "with torch.no_grad():\n",
        "   Hessian = hessian(logistics_regression_loss_all, w)/training_size"
      ],
      "metadata": {
        "id": "9Ej_c0gYBhAj"
      },
      "execution_count": null,
      "outputs": []
    },
    {
      "cell_type": "code",
      "source": [
        "inv_hessian = torch.linalg.inv(Hessian)"
      ],
      "metadata": {
        "id": "c4VbL3uXre22"
      },
      "execution_count": null,
      "outputs": []
    },
    {
      "cell_type": "code",
      "source": [
        "inv_hessian"
      ],
      "metadata": {
        "colab": {
          "base_uri": "https://localhost:8080/"
        },
        "id": "_aZ_UmypHs00",
        "outputId": "b0a3fd96-133d-46fd-eb3c-036aae4bbb87"
      },
      "execution_count": null,
      "outputs": [
        {
          "output_type": "execute_result",
          "data": {
            "text/plain": [
              "tensor([[ 9.9770e+01, -2.2967e-01, -2.2967e-01,  ...,  2.4694e-02,\n",
              "          2.4694e-02,  2.4694e-02],\n",
              "        [-2.2969e-01,  9.9770e+01, -2.2969e-01,  ...,  2.4698e-02,\n",
              "          2.4698e-02,  2.4699e-02],\n",
              "        [-2.2967e-01, -2.2967e-01,  9.9770e+01,  ...,  2.4695e-02,\n",
              "          2.4695e-02,  2.4695e-02],\n",
              "        ...,\n",
              "        [ 2.4696e-02,  2.4696e-02,  2.4696e-02,  ...,  9.9761e+01,\n",
              "         -2.3890e-01, -2.3890e-01],\n",
              "        [ 2.4696e-02,  2.4696e-02,  2.4696e-02,  ..., -2.3890e-01,\n",
              "          9.9761e+01, -2.3890e-01],\n",
              "        [ 2.4696e-02,  2.4696e-02,  2.4696e-02,  ..., -2.3890e-01,\n",
              "         -2.3890e-01,  9.9761e+01]], device='cuda:0')"
            ]
          },
          "metadata": {},
          "execution_count": 65
        }
      ]
    },
    {
      "cell_type": "code",
      "source": [
        "# check how many negative eigenvalues, should be zero\n",
        "L, Q = torch.linalg.eigh(Hessian)"
      ],
      "metadata": {
        "id": "uixsMRgWOlh7"
      },
      "execution_count": null,
      "outputs": []
    },
    {
      "cell_type": "code",
      "source": [
        "(L < 0).sum()"
      ],
      "metadata": {
        "colab": {
          "base_uri": "https://localhost:8080/"
        },
        "id": "TsEYB6fGQtq5",
        "outputId": "808281e6-34d4-45a9-a856-c16ef71524b0"
      },
      "execution_count": null,
      "outputs": [
        {
          "output_type": "execute_result",
          "data": {
            "text/plain": [
              "tensor(0, device='cuda:0')"
            ]
          },
          "metadata": {},
          "execution_count": 14
        }
      ]
    },
    {
      "cell_type": "markdown",
      "source": [
        "## Calculate gradient at single point"
      ],
      "metadata": {
        "id": "Rh74FDddC-I1"
      }
    },
    {
      "cell_type": "code",
      "source": [
        "def loss_grad_at_point(w, train_point):\n",
        "    # w should be torch.cat(tuple([_.view(-1) for _ in model.parameters()]))\n",
        "    # train_point should be alpha_train_dataset[0], a tuple of image and label\n",
        "\n",
        "    w = w.clone().detach().requires_grad_(True)\n",
        "\n",
        "    images = ((train_point[0].reshape(-1, 28*28)/255- 0.1307)/0.3081).to(device)\n",
        "\n",
        "    out1 = F.linear(images, w.reshape(10,784))\n",
        "\n",
        "    loss = criterion(out1, torch.tensor([train_point[1]]).to(device))\n",
        "\n",
        "    l2_lambda = 0.005\n",
        "    l2_norm = sum(w.pow(2.0))\n",
        " \n",
        "    loss = loss + l2_lambda * l2_norm\n",
        "\n",
        "    loss.backward()\n",
        "\n",
        "    return w.grad"
      ],
      "metadata": {
        "id": "IbdQzj4nC5Vu"
      },
      "execution_count": null,
      "outputs": []
    },
    {
      "cell_type": "markdown",
      "source": [
        "## Define a test point"
      ],
      "metadata": {
        "id": "3JlXjd4xDlDl"
      }
    },
    {
      "cell_type": "code",
      "source": [
        "misclassified_lst[5]"
      ],
      "metadata": {
        "colab": {
          "base_uri": "https://localhost:8080/"
        },
        "id": "cUTW6XdzWCbG",
        "outputId": "4c24f3cc-0d37-402d-f6cc-7a20b56ca367"
      },
      "execution_count": null,
      "outputs": [
        {
          "output_type": "execute_result",
          "data": {
            "text/plain": [
              "80"
            ]
          },
          "metadata": {},
          "execution_count": 68
        }
      ]
    },
    {
      "cell_type": "code",
      "source": [
        "test_point = (test_dataset.data[80].float(), test_dataset.targets[80])\n",
        "plt.imshow(alpha_test_dataset[80][0], cmap = \"gray\")"
      ],
      "metadata": {
        "colab": {
          "base_uri": "https://localhost:8080/",
          "height": 283
        },
        "id": "TblBzrxhDhog",
        "outputId": "80249220-8f38-4a0e-d919-c408bdd94197"
      },
      "execution_count": null,
      "outputs": [
        {
          "output_type": "execute_result",
          "data": {
            "text/plain": [
              "<matplotlib.image.AxesImage at 0x7fe12c09dad0>"
            ]
          },
          "metadata": {},
          "execution_count": 69
        },
        {
          "output_type": "display_data",
          "data": {
            "text/plain": [
              "<Figure size 432x288 with 1 Axes>"
            ],
            "image/png": "[encoded data removed]"
          },
          "metadata": {
            "needs_background": "light"
          }
        }
      ]
    },
    {
      "cell_type": "markdown",
      "source": [
        "## Calculate IF scores"
      ],
      "metadata": {
        "id": "Vp_zlX6oDt0V"
      }
    },
    {
      "cell_type": "code",
      "source": [
        "def calculate_if(train_point, test_point, inv_Hessian):\n",
        "    # test point should be alpha_test_dataset[10]\n",
        "\n",
        "    test_loss = loss_grad_at_point(w, test_point)#.to(\"cpu\").numpy()\n",
        "\n",
        "    train_loss = loss_grad_at_point(w, train_point)#.to(\"cpu\").numpy()\n",
        "\n",
        "    if_score = -torch.matmul(torch.matmul(test_loss.t(), inv_Hessian), train_loss)\n",
        "\n",
        "    return if_score"
      ],
      "metadata": {
        "id": "t-5Buwd0DsJ5"
      },
      "execution_count": null,
      "outputs": []
    },
    {
      "cell_type": "code",
      "source": [
        "test_point = (test_dataset.data[80].float(), test_dataset.targets[80])\n",
        "if_score_list = []\n",
        "for i in range(training_size):\n",
        "    train_point = (train_dataset.data[i].float(), train_dataset.targets[i])\n",
        "    if_score = calculate_if(train_point, test_point, inv_hessian.float())\n",
        "    if_score_list.append(if_score)\n",
        "    if (i+1) % 100 == 0:\n",
        "        print(f\"{i+1}/{training_size} complete\")"
      ],
      "metadata": {
        "id": "Rm9-BDSUD5oH"
      },
      "execution_count": null,
      "outputs": []
    },
    {
      "cell_type": "markdown",
      "source": [
        "## Result"
      ],
      "metadata": {
        "id": "ZAsmEpP8ENgw"
      }
    },
    {
      "cell_type": "code",
      "source": [
        "if_score_series = pd.Series(torch.tensor(if_score_list).to(\"cpu\"))\n",
        "if_score_series_sorted = if_score_series.sort_values(ascending = False)"
      ],
      "metadata": {
        "id": "NjfhjB3vEA9X"
      },
      "execution_count": null,
      "outputs": []
    },
    {
      "cell_type": "code",
      "source": [
        "test_point = (test_dataset.data[80].float(), test_dataset.targets[80])\n",
        "plt.imshow(test_dataset.data[80], cmap = \"gray\")"
      ],
      "metadata": {
        "colab": {
          "base_uri": "https://localhost:8080/",
          "height": 283
        },
        "id": "twNUESzMFEFr",
        "outputId": "beb759de-80e3-4c27-9b6e-280bc2ef385f"
      },
      "execution_count": null,
      "outputs": [
        {
          "output_type": "execute_result",
          "data": {
            "text/plain": [
              "<matplotlib.image.AxesImage at 0x7fe0f30f5490>"
            ]
          },
          "metadata": {},
          "execution_count": 73
        },
        {
          "output_type": "display_data",
          "data": {
            "text/plain": [
              "<Figure size 432x288 with 1 Axes>"
            ],
            "image/png": "[encoded data removed]"
          },
          "metadata": {
            "needs_background": "light"
          }
        }
      ]
    },
    {
      "cell_type": "code",
      "source": [
        "fig, axs = plt.subplots(2, 3)\n",
        "axs[0][0].imshow(train_dataset.data[if_score_series_sorted.index[0]], cmap = \"gray\")\n",
        "axs[0][1].imshow(train_dataset.data[if_score_series_sorted.index[1]], cmap = \"gray\")\n",
        "axs[0][2].imshow(train_dataset.data[if_score_series_sorted.index[2]], cmap = \"gray\")\n",
        "axs[1][0].imshow(train_dataset.data[if_score_series_sorted.index[-1]], cmap = \"gray\")\n",
        "axs[1][1].imshow(train_dataset.data[if_score_series_sorted.index[-2]], cmap = \"gray\")\n",
        "axs[1][2].imshow(train_dataset.data[if_score_series_sorted.index[-3]], cmap = \"gray\")\n",
        "#alpha_train_dataset[if_score_series_sorted.index[-1]][0]\n",
        "\n",
        "axs[0, 0].set_title(str(train_dataset.targets[if_score_series_sorted.index[0]].item()))\n",
        "axs[0, 1].set_title(str(train_dataset.targets[if_score_series_sorted.index[1]].item()))\n",
        "axs[0, 2].set_title(str(train_dataset.targets[if_score_series_sorted.index[2]].item()))\n",
        "axs[1, 0].set_title(str(train_dataset.targets[if_score_series_sorted.index[-1]].item()))\n",
        "axs[1, 1].set_title(str(train_dataset.targets[if_score_series_sorted.index[-2]].item()))\n",
        "axs[1, 2].set_title(str(train_dataset.targets[if_score_series_sorted.index[-3]].item()))"
      ],
      "metadata": {
        "colab": {
          "base_uri": "https://localhost:8080/",
          "height": 299
        },
        "id": "Uqm3VMsLEVUo",
        "outputId": "797223f1-a4f5-4b41-de1b-3331ff7ad93f"
      },
      "execution_count": null,
      "outputs": [
        {
          "output_type": "execute_result",
          "data": {
            "text/plain": [
              "Text(0.5, 1.0, '7')"
            ]
          },
          "metadata": {},
          "execution_count": 74
        },
        {
          "output_type": "display_data",
          "data": {
            "text/plain": [
              "<Figure size 432x288 with 6 Axes>"
            ],
            "image/png": "[encoded data removed]"
          },
          "metadata": {
            "needs_background": "light"
          }
        }
      ]
    },
    {
      "cell_type": "markdown",
      "source": [
        "## Compare with leave one out training"
      ],
      "metadata": {
        "id": "czFz4ntzGB3R"
      }
    },
    {
      "cell_type": "code",
      "source": [
        "idx_to_remove = np.array(if_score_series_sorted.apply(lambda x: abs(x)).sort_values(ascending = False).index[:50])"
      ],
      "metadata": {
        "id": "rWZXUd23E54M"
      },
      "execution_count": null,
      "outputs": []
    },
    {
      "cell_type": "code",
      "source": [
        "diff_in_loss_by_if = np.array(if_score_series[idx_to_remove]/(-training_size))"
      ],
      "metadata": {
        "id": "mozYI15PGFT7"
      },
      "execution_count": null,
      "outputs": []
    },
    {
      "cell_type": "markdown",
      "source": [
        "### Define dataset and find original test loss"
      ],
      "metadata": {
        "id": "3D62i0N1IbHf"
      }
    },
    {
      "cell_type": "code",
      "source": [
        "class One_Out_Train_Dataset(Dataset):\n",
        "  def __init__(self, training_selector):\n",
        "      \n",
        "      self.x = train_dataset.data[training_selector].float()\n",
        "      self.y = train_dataset.targets[training_selector]\n",
        "      \n",
        "      #self.n_samples = int(train_dataset.data.shape[0]*alpha)\n",
        "      self.n_samples = len(training_selector)\n",
        "\n",
        "  def __getitem__(self, index):\n",
        "      return self.x[index], self.y[index]\n",
        "  def __len__(self):\n",
        "      return self.n_samples\n",
        "\n",
        "class Alpha_Test_Dataset(Dataset):\n",
        "  def __init__(self):\n",
        "      \n",
        "      self.x = test_dataset.data[testing_selector].float()#[random_selector].float()\n",
        "      self.y = test_dataset.targets[testing_selector]#[random_selector]\n",
        "      \n",
        "      self.n_samples = len(testing_selector)\n",
        "\n",
        "  def __getitem__(self, index):\n",
        "      return self.x[index], self.y[index]\n",
        "  def __len__(self):\n",
        "      return self.n_samples"
      ],
      "metadata": {
        "id": "l27oRGheGFWG"
      },
      "execution_count": null,
      "outputs": []
    },
    {
      "cell_type": "code",
      "source": [
        "test_point = (test_dataset.data[80].float(), test_dataset.targets[80])\n",
        "test_image = ((test_point[0].reshape(-1, 28*28)/255- 0.1307)/0.3081).to(device)\n",
        "test_label = torch.tensor([test_point[1]]).to(device)"
      ],
      "metadata": {
        "id": "hFpVPZ-hGn9x"
      },
      "execution_count": null,
      "outputs": []
    },
    {
      "cell_type": "code",
      "source": [
        "def loss_at_point(w, train_point):\n",
        "    # w should be torch.cat(tuple([_.view(-1) for _ in model.parameters()]))\n",
        "    # train_point should be alpha_train_dataset[0], a tuple of image and label\n",
        "\n",
        "    images = ((train_point[0].reshape(-1, 28*28)/255- 0.1307)/0.3081).to(device)\n",
        "\n",
        "    out1 = F.linear(images, w.reshape(10,784))\n",
        "\n",
        "    loss = criterion(out1, torch.tensor([train_point[1]]).to(device))\n",
        "\n",
        "    l2_lambda = 0.005\n",
        "    l2_norm = sum(w.pow(2.0))\n",
        " \n",
        "    loss = loss + l2_lambda * l2_norm\n",
        "\n",
        "    return loss"
      ],
      "metadata": {
        "id": "jIdRlGCBHMUJ"
      },
      "execution_count": null,
      "outputs": []
    },
    {
      "cell_type": "code",
      "source": [
        "original_test_loss = loss_at_point(w, test_point).item()"
      ],
      "metadata": {
        "id": "-Lg_ykUEGoAv"
      },
      "execution_count": null,
      "outputs": []
    },
    {
      "cell_type": "markdown",
      "source": [
        "### Calculate loss without one training point"
      ],
      "metadata": {
        "id": "pc7OWdEBIR5v"
      }
    },
    {
      "cell_type": "code",
      "source": [
        "change_in_loss_lst = []\n",
        "counter = 0\n",
        "for idx in idx_to_remove:\n",
        "    training_selector = np.concatenate((np.arange(0,idx), np.arange(idx+1,training_size)))\n",
        "\n",
        "    alpha_train_dataset = One_Out_Train_Dataset(training_selector)\n",
        "\n",
        "    train_loader = torch.utils.data.DataLoader(dataset=alpha_train_dataset, batch_size=batch_size, shuffle=True)\n",
        "\n",
        "    model = NeuralNet(input_size, num_classes).to(device) # use pretrained model instead\n",
        "    criterion = nn.CrossEntropyLoss()\n",
        "    optimizer = torch.optim.SGD(model.parameters(), lr = learning_rate, momentum=0.9)\n",
        "\n",
        "    for epoch in range(num_epochs):\n",
        "        for i, (images, labels) in enumerate(train_loader):\n",
        "            # 100, 1, 28, 28\n",
        "            images = ((images.reshape(-1, 28*28)/255- 0.1307)/0.3081).to(device)\n",
        "            labels = labels.to(device)\n",
        "\n",
        "            # forward\n",
        "            outputs = model(images)\n",
        "            loss = criterion(outputs, labels)\n",
        "\n",
        "            l2_lambda = 0.005\n",
        "            l2_norm = sum(p.pow(2.0).sum() for p in model.parameters())\n",
        " \n",
        "            loss = loss + l2_lambda * l2_norm\n",
        "\n",
        "            # backward\n",
        "            optimizer.zero_grad()\n",
        "            loss.backward()\n",
        "            optimizer.step()\n",
        "\n",
        "    with torch.no_grad():\n",
        "        test_output = model(test_image)\n",
        "        test_loss = criterion(test_output, test_label)\n",
        "        change_in_loss_lst.append(test_loss.item() - original_test_loss)\n",
        "        counter = counter + 1\n",
        "        print(f\"{counter}/50 complete\")"
      ],
      "metadata": {
        "colab": {
          "base_uri": "https://localhost:8080/"
        },
        "id": "luPhOM5vHkAg",
        "outputId": "290988ca-6fe0-4e10-da8e-7074de40e7a1"
      },
      "execution_count": null,
      "outputs": [
        {
          "output_type": "stream",
          "name": "stdout",
          "text": [
            "1/50 complete\n",
            "2/50 complete\n",
            "3/50 complete\n",
            "4/50 complete\n",
            "5/50 complete\n",
            "6/50 complete\n",
            "7/50 complete\n",
            "8/50 complete\n",
            "9/50 complete\n",
            "10/50 complete\n",
            "11/50 complete\n",
            "12/50 complete\n",
            "13/50 complete\n",
            "14/50 complete\n",
            "15/50 complete\n",
            "16/50 complete\n",
            "17/50 complete\n",
            "18/50 complete\n",
            "19/50 complete\n",
            "20/50 complete\n",
            "21/50 complete\n",
            "22/50 complete\n",
            "23/50 complete\n",
            "24/50 complete\n",
            "25/50 complete\n",
            "26/50 complete\n",
            "27/50 complete\n",
            "28/50 complete\n",
            "29/50 complete\n",
            "30/50 complete\n",
            "31/50 complete\n",
            "32/50 complete\n",
            "33/50 complete\n",
            "34/50 complete\n",
            "35/50 complete\n",
            "36/50 complete\n",
            "37/50 complete\n",
            "38/50 complete\n",
            "39/50 complete\n",
            "40/50 complete\n",
            "41/50 complete\n",
            "42/50 complete\n",
            "43/50 complete\n",
            "44/50 complete\n",
            "45/50 complete\n",
            "46/50 complete\n",
            "47/50 complete\n",
            "48/50 complete\n",
            "49/50 complete\n",
            "50/50 complete\n"
          ]
        }
      ]
    },
    {
      "cell_type": "code",
      "source": [
        "change_in_loss_array = np.array(change_in_loss_lst)\n",
        "scatter(change_in_loss_array, diff_in_loss_by_if)"
      ],
      "metadata": {
        "colab": {
          "base_uri": "https://localhost:8080/",
          "height": 283
        },
        "id": "FbqeGU1QLyI9",
        "outputId": "f744c5e1-c4ac-44e7-cfb0-89c5c3ad817c"
      },
      "execution_count": null,
      "outputs": [
        {
          "output_type": "execute_result",
          "data": {
            "text/plain": [
              "<matplotlib.collections.PathCollection at 0x7fe0f2d8c7d0>"
            ]
          },
          "metadata": {},
          "execution_count": 86
        },
        {
          "output_type": "display_data",
          "data": {
            "text/plain": [
              "<Figure size 432x288 with 1 Axes>"
            ],
            "image/png": "[encoded data removed]"
          },
          "metadata": {
            "needs_background": "light"
          }
        }
      ]
    },
    {
      "cell_type": "code",
      "source": [
        ""
      ],
      "metadata": {
        "id": "5_QRzMqEMDki"
      },
      "execution_count": null,
      "outputs": []
    },
    {
      "cell_type": "markdown",
      "source": [
        "## Sklearn Logistic Regression"
      ],
      "metadata": {
        "id": "a-C-UF7tgUwD"
      }
    },
    {
      "cell_type": "code",
      "source": [
        "from sklearn import linear_model, preprocessing, cluster\n",
        "\n",
        "import numpy as np\n",
        "import pandas as pd\n",
        "import matplotlib.pyplot as plt\n",
        "from matplotlib.pyplot import scatter\n",
        "\n",
        "import torch\n",
        "import torch.nn as nn\n",
        "import torchvision\n",
        "import torchvision.transforms as transforms\n",
        "from torch.utils.data import Dataset, DataLoader\n",
        "from torch.autograd.functional import hessian\n",
        "import torch.nn.functional as F\n",
        "\n",
        "device = torch.device(\"cuda\" if torch.cuda.is_available() else \"cpu\")"
      ],
      "metadata": {
        "id": "Lp40r1tBgY32"
      },
      "execution_count": null,
      "outputs": []
    },
    {
      "cell_type": "code",
      "source": [
        "train_dataset = torchvision.datasets.MNIST(root=\"./data\", train=True, transform=transforms.ToTensor(), download = True)\n",
        "test_dataset = torchvision.datasets.MNIST(root=\"./data\", train=False, transform=transforms.ToTensor(), download = True)"
      ],
      "metadata": {
        "id": "irDcpskAlY0c"
      },
      "execution_count": null,
      "outputs": []
    },
    {
      "cell_type": "code",
      "source": [
        "X_train = (train_dataset.data.reshape(-1, 784).numpy()/255 - 0.1307)/0.3081\n",
        "Y_train = train_dataset.targets.numpy()"
      ],
      "metadata": {
        "id": "PqbwtU70mJnk"
      },
      "execution_count": null,
      "outputs": []
    },
    {
      "cell_type": "code",
      "source": [
        "X_test = (test_dataset.data.reshape(-1, 784).numpy()/255 - 0.1307)/0.3081\n",
        "Y_test = test_dataset.targets.numpy()"
      ],
      "metadata": {
        "id": "Mtfj3f4qofao"
      },
      "execution_count": null,
      "outputs": []
    },
    {
      "cell_type": "code",
      "source": [
        "weight_decay = 0.01\n",
        "batch_size = 1400\n",
        "initial_learning_rate = 0.001 \n",
        "keep_probs = None\n",
        "max_lbfgs_iter = 3000\n",
        "decay_epochs = [1000, 10000]\n",
        "num_classes = 10\n",
        "input_dim = 784\n",
        "\n",
        "num_train_examples = len(Y_train)\n",
        "assert len(Y_train.shape) == 1\n",
        "assert X_train.shape[0] == Y_train.shape[0]\n",
        "\n",
        "C = 1.0 / (num_train_examples * weight_decay) \n",
        "\n",
        "sklearn_model = linear_model.LogisticRegression(\n",
        "            C=C,\n",
        "            tol=1e-8,\n",
        "            fit_intercept=False, \n",
        "            solver='lbfgs',\n",
        "            multi_class='multinomial',\n",
        "            warm_start=True, #True\n",
        "            max_iter=max_lbfgs_iter)"
      ],
      "metadata": {
        "id": "1zEln4ZFgeBD"
      },
      "execution_count": null,
      "outputs": []
    },
    {
      "cell_type": "code",
      "source": [
        "# print(X_train)\n",
        "# print(Y_train)\n",
        "sklearn_model.fit(X_train, Y_train)\n",
        "# sklearn returns coefficients in shape num_classes x num_features\n",
        "# whereas our weights are defined as num_features x num_classes\n",
        "# so we have to tranpose them first.\n",
        "W = np.reshape(sklearn_model.coef_.T, -1)"
      ],
      "metadata": {
        "id": "Pufj6KsVgeD7"
      },
      "execution_count": null,
      "outputs": []
    },
    {
      "cell_type": "code",
      "source": [
        "Y_pred = sklearn_model.predict(X_test)"
      ],
      "metadata": {
        "id": "UZS8sR_moOe-"
      },
      "execution_count": null,
      "outputs": []
    },
    {
      "cell_type": "code",
      "source": [
        "(Y_pred == Y_test).mean()"
      ],
      "metadata": {
        "colab": {
          "base_uri": "https://localhost:8080/"
        },
        "id": "UOLwU2TporCO",
        "outputId": "5b641ce3-d41f-4d1b-c41a-e3f3a3d10156"
      },
      "execution_count": null,
      "outputs": [
        {
          "output_type": "execute_result",
          "data": {
            "text/plain": [
              "0.9201"
            ]
          },
          "metadata": {},
          "execution_count": 38
        }
      ]
    },
    {
      "cell_type": "code",
      "source": [
        "w = torch.tensor(W).to(device)"
      ],
      "metadata": {
        "id": "gH2HhdLQoxOP"
      },
      "execution_count": null,
      "outputs": []
    },
    {
      "cell_type": "code",
      "source": [
        "training_selector = np.arange(60000)\n",
        "training_size = 60000\n",
        "criterion = nn.CrossEntropyLoss()\n",
        "\n",
        "class Alpha_Train_Dataset(Dataset):\n",
        "  def __init__(self):\n",
        "      \n",
        "      self.x = train_dataset.data[training_selector].float()\n",
        "      self.y = train_dataset.targets[training_selector]\n",
        "      \n",
        "      #self.n_samples = int(train_dataset.data.shape[0]*alpha)\n",
        "      self.n_samples = len(training_selector)\n",
        "\n",
        "  def __getitem__(self, index):\n",
        "      return self.x[index], self.y[index]\n",
        "  def __len__(self):\n",
        "      return self.n_samples\n",
        "\n",
        "alpha_train_dataset = Alpha_Train_Dataset()\n",
        "\n",
        "def logistics_regression_loss_all(w):\n",
        "    \n",
        "    #w = w.clone().detach().requires_grad_(True)\n",
        "\n",
        "    train_loader = torch.utils.data.DataLoader(dataset=alpha_train_dataset, batch_size=training_size, shuffle=False)\n",
        "    examples = iter(train_loader)\n",
        "    images, labels = examples.next()\n",
        "\n",
        "    images = ((images.reshape(-1, 28*28)/255- 0.1307)/0.3081).to(device)\n",
        "\n",
        "    out1 = F.linear(images, w.float().reshape(10,784))\n",
        "\n",
        "    loss = criterion(out1, labels.to(device))*training_size\n",
        "\n",
        "    return loss"
      ],
      "metadata": {
        "id": "6j_gF-Nz8-ve"
      },
      "execution_count": null,
      "outputs": []
    },
    {
      "cell_type": "code",
      "source": [
        "with torch.no_grad():\n",
        "   Hessian = hessian(logistics_regression_loss_all, w)/training_size"
      ],
      "metadata": {
        "id": "6VreCXyh8hQS"
      },
      "execution_count": null,
      "outputs": []
    },
    {
      "cell_type": "code",
      "source": [
        "Hessian"
      ],
      "metadata": {
        "colab": {
          "base_uri": "https://localhost:8080/"
        },
        "id": "fP0YqurT8hTD",
        "outputId": "3eaac2d2-5af1-4fab-b00c-dac64da0c607"
      },
      "execution_count": null,
      "outputs": [
        {
          "output_type": "execute_result",
          "data": {
            "text/plain": [
              "tensor([[ 0.0134,  0.0134,  0.0134,  ..., -0.0013, -0.0013, -0.0013],\n",
              "        [ 0.0134,  0.0134,  0.0134,  ..., -0.0013, -0.0013, -0.0013],\n",
              "        [ 0.0134,  0.0134,  0.0134,  ..., -0.0013, -0.0013, -0.0013],\n",
              "        ...,\n",
              "        [-0.0013, -0.0013, -0.0013,  ...,  0.0139,  0.0139,  0.0139],\n",
              "        [-0.0013, -0.0013, -0.0013,  ...,  0.0139,  0.0139,  0.0139],\n",
              "        [-0.0013, -0.0013, -0.0013,  ...,  0.0139,  0.0139,  0.0139]],\n",
              "       device='cuda:0', dtype=torch.float64)"
            ]
          },
          "metadata": {},
          "execution_count": 42
        }
      ]
    },
    {
      "cell_type": "code",
      "source": [
        "inv_hessian = torch.linalg.inv(Hessian)"
      ],
      "metadata": {
        "colab": {
          "base_uri": "https://localhost:8080/",
          "height": 165
        },
        "id": "ru-sz6xZ_EHL",
        "outputId": "66f15531-772b-4406-dbda-f103747aa10b"
      },
      "execution_count": null,
      "outputs": [
        {
          "output_type": "error",
          "ename": "_LinAlgError",
          "evalue": "ignored",
          "traceback": [
            "\u001b[0;31m---------------------------------------------------------------------------\u001b[0m",
            "\u001b[0;31m_LinAlgError\u001b[0m                              Traceback (most recent call last)",
            "\u001b[0;32m<ipython-input-43-70f438b00079>\u001b[0m in \u001b[0;36m<module>\u001b[0;34m\u001b[0m\n\u001b[0;32m----> 1\u001b[0;31m \u001b[0minv_hessian\u001b[0m \u001b[0;34m=\u001b[0m \u001b[0mtorch\u001b[0m\u001b[0;34m.\u001b[0m\u001b[0mlinalg\u001b[0m\u001b[0;34m.\u001b[0m\u001b[0minv\u001b[0m\u001b[0;34m(\u001b[0m\u001b[0mHessian\u001b[0m\u001b[0;34m)\u001b[0m\u001b[0;34m\u001b[0m\u001b[0;34m\u001b[0m\u001b[0m\n\u001b[0m",
            "\u001b[0;31m_LinAlgError\u001b[0m: torch.linalg.inv: The diagonal element 17 is zero, the inversion could not be completed because the input matrix is singular."
          ]
        }
      ]
    },
    {
      "cell_type": "code",
      "source": [
        "(Hessian == 0).sum()"
      ],
      "metadata": {
        "colab": {
          "base_uri": "https://localhost:8080/"
        },
        "id": "WFbKWbCX_JTI",
        "outputId": "76e5c19d-2565-4d8b-c356-26b696a2b623"
      },
      "execution_count": null,
      "outputs": [
        {
          "output_type": "execute_result",
          "data": {
            "text/plain": [
              "tensor(0, device='cuda:0')"
            ]
          },
          "metadata": {},
          "execution_count": 34
        }
      ]
    },
    {
      "cell_type": "code",
      "source": [
        ""
      ],
      "metadata": {
        "id": "VCJrds6C_lYw"
      },
      "execution_count": null,
      "outputs": []
    }
  ]
}