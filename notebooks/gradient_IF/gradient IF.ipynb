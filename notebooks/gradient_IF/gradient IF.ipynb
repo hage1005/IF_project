{
 "cells": [
  {
   "cell_type": "code",
   "execution_count": 4,
   "id": "129e1a18",
   "metadata": {},
   "outputs": [],
   "source": [
    "from model import ImageClassifier\n",
    "import matplotlib.pyplot as plt\n",
    "import torch\n",
    "import torch.nn as nn\n",
    "import torch.nn.functional as F\n",
    "import torchvision\n",
    "import torchvision.transforms as transforms\n",
    "import numpy as np\n",
    "from torch.utils.data import Dataset, DataLoader\n",
    "from functools import reduce\n",
    "from operator import __or__\n",
    "from torchvision.datasets import MNIST\n",
    "import torchvision.transforms as transforms\n",
    "import copy"
   ]
  },
  {
   "cell_type": "code",
   "execution_count": 5,
   "id": "a5acce13",
   "metadata": {},
   "outputs": [],
   "source": [
    "input_size = 784 \n",
    "hidden_size = 32\n",
    "num_classes = 10\n",
    "num_epochs = 20\n",
    "batch_size = 64\n",
    "num_per_class = 1000\n",
    "learning_rate = 4e-5"
   ]
  },
  {
   "cell_type": "code",
   "execution_count": 6,
   "id": "49e226b0",
   "metadata": {},
   "outputs": [
    {
     "name": "stdout",
     "output_type": "stream",
     "text": [
      "Downloading http://yann.lecun.com/exdb/mnist/train-images-idx3-ubyte.gz\n",
      "Downloading http://yann.lecun.com/exdb/mnist/train-images-idx3-ubyte.gz to ./data/MNIST/raw/train-images-idx3-ubyte.gz\n"
     ]
    },
    {
     "name": "stderr",
     "output_type": "stream",
     "text": [
      "100%|█████████████████████████████████████████████████████████████| 9912422/9912422 [00:00<00:00, 100366482.26it/s]"
     ]
    },
    {
     "name": "stdout",
     "output_type": "stream",
     "text": [
      "Extracting ./data/MNIST/raw/train-images-idx3-ubyte.gz to ./data/MNIST/raw\n"
     ]
    },
    {
     "name": "stderr",
     "output_type": "stream",
     "text": [
      "\n"
     ]
    },
    {
     "name": "stdout",
     "output_type": "stream",
     "text": [
      "\n",
      "Downloading http://yann.lecun.com/exdb/mnist/train-labels-idx1-ubyte.gz\n",
      "Downloading http://yann.lecun.com/exdb/mnist/train-labels-idx1-ubyte.gz to ./data/MNIST/raw/train-labels-idx1-ubyte.gz\n"
     ]
    },
    {
     "name": "stderr",
     "output_type": "stream",
     "text": [
      "100%|██████████████████████████████████████████████████████████████████| 28881/28881 [00:00<00:00, 80703327.00it/s]\n"
     ]
    },
    {
     "name": "stdout",
     "output_type": "stream",
     "text": [
      "Extracting ./data/MNIST/raw/train-labels-idx1-ubyte.gz to ./data/MNIST/raw\n",
      "\n",
      "Downloading http://yann.lecun.com/exdb/mnist/t10k-images-idx3-ubyte.gz\n",
      "Downloading http://yann.lecun.com/exdb/mnist/t10k-images-idx3-ubyte.gz to ./data/MNIST/raw/t10k-images-idx3-ubyte.gz\n"
     ]
    },
    {
     "name": "stderr",
     "output_type": "stream",
     "text": [
      "100%|██████████████████████████████████████████████████████████████| 1648877/1648877 [00:00<00:00, 76958675.75it/s]"
     ]
    },
    {
     "name": "stdout",
     "output_type": "stream",
     "text": [
      "Extracting ./data/MNIST/raw/t10k-images-idx3-ubyte.gz to ./data/MNIST/raw\n",
      "\n",
      "Downloading http://yann.lecun.com/exdb/mnist/t10k-labels-idx1-ubyte.gz\n"
     ]
    },
    {
     "name": "stderr",
     "output_type": "stream",
     "text": [
      "\n"
     ]
    },
    {
     "name": "stdout",
     "output_type": "stream",
     "text": [
      "Downloading http://yann.lecun.com/exdb/mnist/t10k-labels-idx1-ubyte.gz to ./data/MNIST/raw/t10k-labels-idx1-ubyte.gz\n"
     ]
    },
    {
     "name": "stderr",
     "output_type": "stream",
     "text": [
      "100%|████████████████████████████████████████████████████████████████████| 4542/4542 [00:00<00:00, 11232623.09it/s]\n"
     ]
    },
    {
     "name": "stdout",
     "output_type": "stream",
     "text": [
      "Extracting ./data/MNIST/raw/t10k-labels-idx1-ubyte.gz to ./data/MNIST/raw\n",
      "\n",
      "tensor(7)\n"
     ]
    },
    {
     "data": {
      "image/png": "[encoded data removed]",
      "text/plain": [
       "<Figure size 432x288 with 1 Axes>"
      ]
     },
     "metadata": {
      "needs_background": "light"
     },
     "output_type": "display_data"
    }
   ],
   "source": [
    "classifier = ImageClassifier(norm_fn = 'softmax', softmax_temp = 1)\n",
    "classifier.load_data(num_classes, num_per_class, batch_size)\n",
    "mnist_train = classifier.mnist_train\n",
    "mnist_test = classifier.mnist_test\n",
    "target_input = mnist_test.data.float()[0]\n",
    "target_label = mnist_test.targets[0]\n",
    "print(target_label)\n",
    "plt.imshow(target_input.squeeze(), cmap = \"gray\")\n",
    "train_indices = classifier.indices\n",
    "train_size = len(classifier.indices)"
   ]
  },
  {
   "cell_type": "code",
   "execution_count": 7,
   "id": "8abd74e4",
   "metadata": {},
   "outputs": [],
   "source": [
    "torch.save(train_indices, \"train_indices\")"
   ]
  },
  {
   "cell_type": "code",
   "execution_count": 8,
   "id": "2b43d3ba",
   "metadata": {
    "scrolled": false
   },
   "outputs": [],
   "source": [
    "classifier.test_image(target_input, target_label)\n",
    "classifier.get_optimizer(learning_rate = learning_rate) \n",
    "classifier.init_weights(n_examples = train_size, w_init = (1/train_size), w_decay = 1)"
   ]
  },
  {
   "cell_type": "code",
   "execution_count": 9,
   "id": "f7c92d3a",
   "metadata": {},
   "outputs": [
    {
     "name": "stdout",
     "output_type": "stream",
     "text": [
      "============================================================\n",
      "Training\n",
      "============================================================\n"
     ]
    },
    {
     "name": "stderr",
     "output_type": "stream",
     "text": [
      "Training Epoch: 100%|████████████████████████████████████████████████████████████| 157/157 [00:08<00:00, 18.74it/s]\n",
      "Test Epoch: 100%|███████████████████████████████████████████████████████████████| 157/157 [00:00<00:00, 529.16it/s]\n"
     ]
    },
    {
     "name": "stdout",
     "output_type": "stream",
     "text": [
      "Pre-train Epoch 0, Test Acc: 48.1500\n"
     ]
    },
    {
     "name": "stderr",
     "output_type": "stream",
     "text": [
      "Training Epoch: 100%|███████████████████████████████████████████████████████████| 157/157 [00:01<00:00, 115.21it/s]\n",
      "Test Epoch: 100%|██████████████████████████████████████████████████████████████| 157/157 [00:00<00:00, 1118.57it/s]\n"
     ]
    },
    {
     "name": "stdout",
     "output_type": "stream",
     "text": [
      "Pre-train Epoch 1, Test Acc: 59.1300\n"
     ]
    },
    {
     "name": "stderr",
     "output_type": "stream",
     "text": [
      "Training Epoch: 100%|████████████████████████████████████████████████████████████| 157/157 [00:02<00:00, 68.08it/s]\n",
      "Test Epoch: 100%|██████████████████████████████████████████████████████████████| 157/157 [00:00<00:00, 1059.75it/s]\n"
     ]
    },
    {
     "name": "stdout",
     "output_type": "stream",
     "text": [
      "Pre-train Epoch 2, Test Acc: 64.2300\n"
     ]
    },
    {
     "name": "stderr",
     "output_type": "stream",
     "text": [
      "Training Epoch: 100%|███████████████████████████████████████████████████████████| 157/157 [00:01<00:00, 116.38it/s]\n",
      "Test Epoch: 100%|██████████████████████████████████████████████████████████████| 157/157 [00:00<00:00, 1223.67it/s]\n"
     ]
    },
    {
     "name": "stdout",
     "output_type": "stream",
     "text": [
      "Pre-train Epoch 3, Test Acc: 67.1800\n"
     ]
    },
    {
     "name": "stderr",
     "output_type": "stream",
     "text": [
      "Training Epoch: 100%|███████████████████████████████████████████████████████████| 157/157 [00:01<00:00, 104.02it/s]\n",
      "Test Epoch: 100%|██████████████████████████████████████████████████████████████| 157/157 [00:00<00:00, 1020.72it/s]\n"
     ]
    },
    {
     "name": "stdout",
     "output_type": "stream",
     "text": [
      "Pre-train Epoch 4, Test Acc: 69.8800\n"
     ]
    },
    {
     "name": "stderr",
     "output_type": "stream",
     "text": [
      "Training Epoch: 100%|████████████████████████████████████████████████████████████| 157/157 [00:03<00:00, 42.08it/s]\n",
      "Test Epoch: 100%|██████████████████████████████████████████████████████████████| 157/157 [00:00<00:00, 1050.68it/s]\n"
     ]
    },
    {
     "name": "stdout",
     "output_type": "stream",
     "text": [
      "Pre-train Epoch 5, Test Acc: 72.0900\n"
     ]
    },
    {
     "name": "stderr",
     "output_type": "stream",
     "text": [
      "Training Epoch: 100%|████████████████████████████████████████████████████████████| 157/157 [00:02<00:00, 72.07it/s]\n",
      "Test Epoch: 100%|██████████████████████████████████████████████████████████████| 157/157 [00:00<00:00, 1082.82it/s]\n"
     ]
    },
    {
     "name": "stdout",
     "output_type": "stream",
     "text": [
      "Pre-train Epoch 6, Test Acc: 73.7500\n"
     ]
    },
    {
     "name": "stderr",
     "output_type": "stream",
     "text": [
      "Training Epoch: 100%|███████████████████████████████████████████████████████████| 157/157 [00:01<00:00, 114.80it/s]\n",
      "Test Epoch: 100%|██████████████████████████████████████████████████████████████| 157/157 [00:00<00:00, 1011.17it/s]\n"
     ]
    },
    {
     "name": "stdout",
     "output_type": "stream",
     "text": [
      "Pre-train Epoch 7, Test Acc: 75.0200\n"
     ]
    },
    {
     "name": "stderr",
     "output_type": "stream",
     "text": [
      "Training Epoch: 100%|███████████████████████████████████████████████████████████| 157/157 [00:01<00:00, 112.29it/s]\n",
      "Test Epoch: 100%|██████████████████████████████████████████████████████████████| 157/157 [00:00<00:00, 1079.83it/s]\n"
     ]
    },
    {
     "name": "stdout",
     "output_type": "stream",
     "text": [
      "Pre-train Epoch 8, Test Acc: 76.0500\n"
     ]
    },
    {
     "name": "stderr",
     "output_type": "stream",
     "text": [
      "Training Epoch: 100%|████████████████████████████████████████████████████████████| 157/157 [00:01<00:00, 97.95it/s]\n",
      "Test Epoch: 100%|██████████████████████████████████████████████████████████████| 157/157 [00:00<00:00, 1183.11it/s]\n"
     ]
    },
    {
     "name": "stdout",
     "output_type": "stream",
     "text": [
      "Pre-train Epoch 9, Test Acc: 77.5700\n"
     ]
    },
    {
     "name": "stderr",
     "output_type": "stream",
     "text": [
      "Training Epoch: 100%|████████████████████████████████████████████████████████████| 157/157 [00:01<00:00, 85.04it/s]\n",
      "Test Epoch: 100%|███████████████████████████████████████████████████████████████| 157/157 [00:00<00:00, 917.44it/s]\n"
     ]
    },
    {
     "name": "stdout",
     "output_type": "stream",
     "text": [
      "Pre-train Epoch 10, Test Acc: 78.9400\n"
     ]
    },
    {
     "name": "stderr",
     "output_type": "stream",
     "text": [
      "Training Epoch: 100%|███████████████████████████████████████████████████████████| 157/157 [00:01<00:00, 103.31it/s]\n",
      "Test Epoch: 100%|██████████████████████████████████████████████████████████████| 157/157 [00:00<00:00, 1092.18it/s]\n"
     ]
    },
    {
     "name": "stdout",
     "output_type": "stream",
     "text": [
      "Pre-train Epoch 11, Test Acc: 79.7800\n"
     ]
    },
    {
     "name": "stderr",
     "output_type": "stream",
     "text": [
      "Training Epoch: 100%|████████████████████████████████████████████████████████████| 157/157 [00:01<00:00, 80.96it/s]\n",
      "Test Epoch: 100%|██████████████████████████████████████████████████████████████| 157/157 [00:00<00:00, 1022.49it/s]\n"
     ]
    },
    {
     "name": "stdout",
     "output_type": "stream",
     "text": [
      "Pre-train Epoch 12, Test Acc: 80.4400\n"
     ]
    },
    {
     "name": "stderr",
     "output_type": "stream",
     "text": [
      "Training Epoch: 100%|███████████████████████████████████████████████████████████| 157/157 [00:01<00:00, 106.60it/s]\n",
      "Test Epoch: 100%|██████████████████████████████████████████████████████████████| 157/157 [00:00<00:00, 1078.57it/s]\n"
     ]
    },
    {
     "name": "stdout",
     "output_type": "stream",
     "text": [
      "Pre-train Epoch 13, Test Acc: 81.5400\n"
     ]
    },
    {
     "name": "stderr",
     "output_type": "stream",
     "text": [
      "Training Epoch: 100%|███████████████████████████████████████████████████████████| 157/157 [00:01<00:00, 106.69it/s]\n",
      "Test Epoch: 100%|██████████████████████████████████████████████████████████████| 157/157 [00:00<00:00, 1068.73it/s]\n"
     ]
    },
    {
     "name": "stdout",
     "output_type": "stream",
     "text": [
      "Pre-train Epoch 14, Test Acc: 81.9700\n"
     ]
    },
    {
     "name": "stderr",
     "output_type": "stream",
     "text": [
      "Training Epoch: 100%|████████████████████████████████████████████████████████████| 157/157 [00:01<00:00, 96.95it/s]\n",
      "Test Epoch: 100%|██████████████████████████████████████████████████████████████| 157/157 [00:00<00:00, 1076.27it/s]\n"
     ]
    },
    {
     "name": "stdout",
     "output_type": "stream",
     "text": [
      "Pre-train Epoch 15, Test Acc: 82.5600\n"
     ]
    },
    {
     "name": "stderr",
     "output_type": "stream",
     "text": [
      "Training Epoch: 100%|███████████████████████████████████████████████████████████| 157/157 [00:01<00:00, 113.12it/s]\n",
      "Test Epoch: 100%|██████████████████████████████████████████████████████████████| 157/157 [00:00<00:00, 1095.70it/s]\n"
     ]
    },
    {
     "name": "stdout",
     "output_type": "stream",
     "text": [
      "Pre-train Epoch 16, Test Acc: 83.0400\n"
     ]
    },
    {
     "name": "stderr",
     "output_type": "stream",
     "text": [
      "Training Epoch: 100%|███████████████████████████████████████████████████████████| 157/157 [00:01<00:00, 103.01it/s]\n",
      "Test Epoch: 100%|██████████████████████████████████████████████████████████████| 157/157 [00:00<00:00, 1027.55it/s]\n"
     ]
    },
    {
     "name": "stdout",
     "output_type": "stream",
     "text": [
      "Pre-train Epoch 17, Test Acc: 83.5900\n"
     ]
    },
    {
     "name": "stderr",
     "output_type": "stream",
     "text": [
      "Training Epoch: 100%|████████████████████████████████████████████████████████████| 157/157 [00:02<00:00, 76.55it/s]\n",
      "Test Epoch: 100%|███████████████████████████████████████████████████████████████| 157/157 [00:00<00:00, 936.58it/s]\n"
     ]
    },
    {
     "name": "stdout",
     "output_type": "stream",
     "text": [
      "Pre-train Epoch 18, Test Acc: 83.9600\n"
     ]
    },
    {
     "name": "stderr",
     "output_type": "stream",
     "text": [
      "Training Epoch: 100%|████████████████████████████████████████████████████████████| 157/157 [00:01<00:00, 89.32it/s]\n",
      "Test Epoch: 100%|██████████████████████████████████████████████████████████████| 157/157 [00:00<00:00, 1051.52it/s]"
     ]
    },
    {
     "name": "stdout",
     "output_type": "stream",
     "text": [
      "Pre-train Epoch 19, Test Acc: 84.3100\n"
     ]
    },
    {
     "name": "stderr",
     "output_type": "stream",
     "text": [
      "\n"
     ]
    }
   ],
   "source": [
    "print('=' * 60, '\\n', 'Training', '\\n', '=' * 60, sep='')\n",
    "best_dev_acc, final_test_acc = -1., -1.\n",
    "for epoch in range(num_epochs):\n",
    "     classifier.pretrain_epoch()\n",
    "     test_acc = classifier.evaluate()\n",
    "     print('Pre-train Epoch {}, Test Acc: {:.4f}'.format(epoch, 100. * test_acc))"
   ]
  },
  {
   "cell_type": "code",
   "execution_count": 11,
   "id": "26e5007d",
   "metadata": {
    "scrolled": true
   },
   "outputs": [
    {
     "name": "stdout",
     "output_type": "stream",
     "text": [
      "============================================================\n",
      "Training\n",
      "============================================================\n"
     ]
    },
    {
     "name": "stderr",
     "output_type": "stream",
     "text": [
      "Training Epoch:   0%|                                                                      | 0/157 [00:00<?, ?it/s]/home/xiaochen/anaconda3/envs/IFv2/lib/python3.8/site-packages/torch/_tensor.py:1083: UserWarning: The .grad attribute of a Tensor that is not a leaf Tensor is being accessed. Its .grad attribute won't be populated during autograd.backward(). If you indeed want the .grad field to be populated for a non-leaf Tensor, use .retain_grad() on the non-leaf Tensor. If you access the non-leaf Tensor by mistake, make sure you access the leaf Tensor instead. See github.com/pytorch/pytorch/pull/30531 for more informations. (Triggered internally at  /opt/conda/conda-bld/pytorch_1659484810403/work/build/aten/src/ATen/core/TensorBody.h:477.)\n",
      "  return self._grad\n",
      "Training Epoch: 100%|████████████████████████████████████████████████████████████| 157/157 [02:06<00:00,  1.24it/s]\n"
     ]
    }
   ],
   "source": [
    "print('=' * 60, '\\n', 'Training', '\\n', '=' * 60, sep='')\n",
    "for epoch in range(1):\n",
    "    classifier.train_epoch()"
   ]
  },
  {
   "cell_type": "code",
   "execution_count": 12,
   "id": "32347e7b",
   "metadata": {},
   "outputs": [
    {
     "data": {
      "text/plain": [
       "tensor([7.2760e-12, 7.2760e-12, 0.0000e+00,  ..., 1.4552e-11, 1.3824e-10,\n",
       "        5.1659e-10])"
      ]
     },
     "execution_count": 12,
     "metadata": {},
     "output_type": "execute_result"
    }
   ],
   "source": [
    "ifscore = ((1/train_size) - classifier._weights).detach()\n",
    "ifscore"
   ]
  },
  {
   "cell_type": "code",
   "execution_count": 17,
   "id": "64c2be43",
   "metadata": {},
   "outputs": [
    {
     "data": {
      "text/plain": [
       "tensor(1.2951e-09)"
      ]
     },
     "execution_count": 17,
     "metadata": {},
     "output_type": "execute_result"
    }
   ],
   "source": [
    "torch.max(ifscore)\n"
   ]
  },
  {
   "cell_type": "code",
   "execution_count": 12,
   "id": "ffc2c8f6",
   "metadata": {},
   "outputs": [
    {
     "data": {
      "text/plain": [
       "tensor(1)"
      ]
     },
     "execution_count": 12,
     "metadata": {},
     "output_type": "execute_result"
    }
   ],
   "source": [
    "torch.sum(ifscore==torch.max(ifscore))"
   ]
  },
  {
   "cell_type": "code",
   "execution_count": 18,
   "id": "aa765bea",
   "metadata": {},
   "outputs": [],
   "source": [
    "mnist_train_inputs = mnist_train.data.float()[train_indices]\n",
    "mnist_train_targets = mnist_train.targets[train_indices]"
   ]
  },
  {
   "cell_type": "code",
   "execution_count": 14,
   "id": "9d118bef",
   "metadata": {},
   "outputs": [
    {
     "name": "stderr",
     "output_type": "stream",
     "text": [
      "/var/folders/_y/h0dptjbj5d94l_5zw2wf_zpm0000gn/T/ipykernel_26097/3608012295.py:5: UserWarning: To copy construct from a tensor, it is recommended to use sourceTensor.clone().detach() or sourceTensor.clone().detach().requires_grad_(True), rather than torch.tensor(sourceTensor).\n",
      "  label.append(torch.tensor(mnist_train_targets[ind[i]]))\n"
     ]
    },
    {
     "data": {
      "text/plain": [
       "[tensor(7),\n",
       " tensor(7),\n",
       " tensor(7),\n",
       " tensor(7),\n",
       " tensor(7),\n",
       " tensor(7),\n",
       " tensor(7),\n",
       " tensor(9),\n",
       " tensor(7),\n",
       " tensor(7),\n",
       " tensor(9),\n",
       " tensor(7),\n",
       " tensor(7),\n",
       " tensor(7),\n",
       " tensor(7),\n",
       " tensor(7),\n",
       " tensor(7),\n",
       " tensor(7),\n",
       " tensor(9),\n",
       " tensor(7)]"
      ]
     },
     "execution_count": 14,
     "metadata": {},
     "output_type": "execute_result"
    }
   ],
   "source": [
    "n = 20\n",
    "infl, ind = torch.topk(-ifscore, n) # classifier._weights\n",
    "label = []\n",
    "for i in range(n):\n",
    "    label.append(torch.tensor(mnist_train_targets[ind[i]]))\n",
    "label"
   ]
  },
  {
   "cell_type": "code",
   "execution_count": 15,
   "id": "be3eeec9",
   "metadata": {
    "scrolled": false
   },
   "outputs": [
    {
     "name": "stderr",
     "output_type": "stream",
     "text": [
      "/var/folders/_y/h0dptjbj5d94l_5zw2wf_zpm0000gn/T/ipykernel_26097/2571034244.py:6: UserWarning: To copy construct from a tensor, it is recommended to use sourceTensor.clone().detach() or sourceTensor.clone().detach().requires_grad_(True), rather than torch.tensor(sourceTensor).\n",
      "  inputs = torch.tensor(mnist_train_inputs[ind[i]])\n",
      "/var/folders/_y/h0dptjbj5d94l_5zw2wf_zpm0000gn/T/ipykernel_26097/2571034244.py:7: UserWarning: To copy construct from a tensor, it is recommended to use sourceTensor.clone().detach() or sourceTensor.clone().detach().requires_grad_(True), rather than torch.tensor(sourceTensor).\n",
      "  label.append(torch.tensor(mnist_train_targets[ind[i]]))\n"
     ]
    },
    {
     "data": {
      "text/plain": [
       "[tensor(7),\n",
       " tensor(7),\n",
       " tensor(7),\n",
       " tensor(7),\n",
       " tensor(7),\n",
       " tensor(7),\n",
       " tensor(7),\n",
       " tensor(9),\n",
       " tensor(7)]"
      ]
     },
     "execution_count": 15,
     "metadata": {},
     "output_type": "execute_result"
    },
    {
     "data": {
      "image/png": "[encoded data removed]",
      "text/plain": [
       "<Figure size 720x720 with 9 Axes>"
      ]
     },
     "metadata": {
      "needs_background": "light"
     },
     "output_type": "display_data"
    }
   ],
   "source": [
    "n = 9\n",
    "weights, ind = torch.topk(-ifscore, n) # classifier._weights\n",
    "f = plt.figure(figsize=(10,10))\n",
    "label = []\n",
    "for i in range(9):\n",
    "    inputs = torch.tensor(mnist_train_inputs[ind[i]])\n",
    "    label.append(torch.tensor(mnist_train_targets[ind[i]]))\n",
    "    f.add_subplot(330 + 1 + i)\n",
    "    plt.imshow(inputs.squeeze(), cmap = \"gray\")\n",
    "label"
   ]
  },
  {
   "cell_type": "code",
   "execution_count": 18,
   "id": "49da1428",
   "metadata": {
    "scrolled": false
   },
   "outputs": [
    {
     "name": "stderr",
     "output_type": "stream",
     "text": [
      "/var/folders/_y/h0dptjbj5d94l_5zw2wf_zpm0000gn/T/ipykernel_26097/1928680678.py:5: UserWarning: To copy construct from a tensor, it is recommended to use sourceTensor.clone().detach() or sourceTensor.clone().detach().requires_grad_(True), rather than torch.tensor(sourceTensor).\n",
      "  inputs = torch.tensor(mnist_train_inputs[ind[i]])\n",
      "/var/folders/_y/h0dptjbj5d94l_5zw2wf_zpm0000gn/T/ipykernel_26097/1928680678.py:6: UserWarning: To copy construct from a tensor, it is recommended to use sourceTensor.clone().detach() or sourceTensor.clone().detach().requires_grad_(True), rather than torch.tensor(sourceTensor).\n",
      "  label.append(torch.tensor(mnist_train_targets[ind[i]]))\n"
     ]
    },
    {
     "data": {
      "text/plain": [
       "[tensor(2),\n",
       " tensor(1),\n",
       " tensor(3),\n",
       " tensor(8),\n",
       " tensor(3),\n",
       " tensor(9),\n",
       " tensor(3),\n",
       " tensor(9),\n",
       " tensor(9)]"
      ]
     },
     "execution_count": 18,
     "metadata": {},
     "output_type": "execute_result"
    },
    {
     "data": {
      "image/png": "[encoded data removed]",
      "text/plain": [
       "<Figure size 720x720 with 9 Axes>"
      ]
     },
     "metadata": {
      "needs_background": "light"
     },
     "output_type": "display_data"
    }
   ],
   "source": [
    "weights, ind = torch.topk(ifscore, 9) # classifier._weights\n",
    "f = plt.figure(figsize=(10,10))\n",
    "label = []\n",
    "for i in range(9):\n",
    "    inputs = torch.tensor(mnist_train_inputs[ind[i]])\n",
    "    label.append(torch.tensor(mnist_train_targets[ind[i]]))\n",
    "    f.add_subplot(330 + 1 + i)\n",
    "    plt.imshow(inputs.squeeze(), cmap = \"gray\")\n",
    "label"
   ]
  },
  {
   "cell_type": "code",
   "execution_count": 19,
   "id": "45a51560",
   "metadata": {},
   "outputs": [],
   "source": [
    "torch.save(ifscore, \"gradient_if\")\n",
    "torch.save(classifier._model.state_dict(), \"model\")"
   ]
  }
 ],
 "metadata": {
  "kernelspec": {
   "display_name": "Python 3",
   "language": "python",
   "name": "python3"
  },
  "language_info": {
   "codemirror_mode": {
    "name": "ipython",
    "version": 3
   },
   "file_extension": ".py",
   "mimetype": "text/x-python",
   "name": "python",
   "nbconvert_exporter": "python",
   "pygments_lexer": "ipython3",
   "version": "3.8.13"
  }
 },
 "nbformat": 4,
 "nbformat_minor": 5
}
