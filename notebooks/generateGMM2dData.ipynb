{
 "cells": [
  {
   "cell_type": "code",
   "execution_count": 2,
   "id": "8cda78d6",
   "metadata": {},
   "outputs": [],
   "source": [
    "import numpy as np\n",
    "import pandas as pd"
   ]
  },
  {
   "cell_type": "code",
   "execution_count": 5,
   "id": "1ebcf21c",
   "metadata": {},
   "outputs": [],
   "source": [
    "mu, sigma = 0, 0.1 # mean and standard deviation\n",
    "x_class1 = np.random.normal(-1, 0.5, size = [1000,2])\n",
    "y_class1 = np.zeros(1000)\n",
    "x_class2 = np.random.normal(1, 0.5, size = [1000,2])\n",
    "y_class2 = np.ones(1000)"
   ]
  },
  {
   "cell_type": "code",
   "execution_count": 13,
   "id": "8c6542c9",
   "metadata": {},
   "outputs": [
    {
     "data": {
      "text/plain": [
       "'[[-0.71559033 -0.88070962]\\n [-1.02990179 -0.9457036 ]\\n [-0.9605757  -0.74919506]\\n ...\\n [-1.74247504 -1.33914696]\\n [-0.65515375 -0.28551665]\\n [-0.58587917 -1.16262942]]'"
      ]
     },
     "execution_count": 13,
     "metadata": {},
     "output_type": "execute_result"
    }
   ],
   "source": [
    "str(x_class1)"
   ]
  },
  {
   "cell_type": "code",
   "execution_count": 49,
   "id": "67a6b589",
   "metadata": {},
   "outputs": [],
   "source": [
    "train_dict = {\"x\": [str(x.tolist()) for x in np.concatenate((x_class1, x_class2))], \n",
    "      \"y\": np.concatenate((y_class1, y_class2))}"
   ]
  },
  {
   "cell_type": "code",
   "execution_count": 56,
   "id": "72df5993",
   "metadata": {},
   "outputs": [],
   "source": [
    "train_df = pd.DataFrame.from_dict(train_dict)"
   ]
  },
  {
   "cell_type": "code",
   "execution_count": 57,
   "id": "761eee31",
   "metadata": {},
   "outputs": [],
   "source": [
    "test_d = {\"x\": np.array(['[-1., -1.]','[1., 1.]']), \n",
    "  \"y\": np.array([0,1])}"
   ]
  },
  {
   "cell_type": "code",
   "execution_count": 58,
   "id": "8cf0da76",
   "metadata": {},
   "outputs": [],
   "source": [
    "test_df = pd.DataFrame.from_dict(test_d)"
   ]
  },
  {
   "cell_type": "code",
   "execution_count": 59,
   "id": "5d0ce601",
   "metadata": {},
   "outputs": [],
   "source": [
    "train_df.to_csv(\"../data/2D_1000sample_2class_train.csv\")"
   ]
  },
  {
   "cell_type": "code",
   "execution_count": 60,
   "id": "f3f775c0",
   "metadata": {},
   "outputs": [],
   "source": [
    "test_df.to_csv(\"../data/2D_1000sample_2class_test.csv\")"
   ]
  },
  {
   "cell_type": "code",
   "execution_count": 61,
   "id": "eea4ea10",
   "metadata": {},
   "outputs": [
    {
     "data": {
      "text/html": [
       "<div>\n",
       "<style scoped>\n",
       "    .dataframe tbody tr th:only-of-type {\n",
       "        vertical-align: middle;\n",
       "    }\n",
       "\n",
       "    .dataframe tbody tr th {\n",
       "        vertical-align: top;\n",
       "    }\n",
       "\n",
       "    .dataframe thead th {\n",
       "        text-align: right;\n",
       "    }\n",
       "</style>\n",
       "<table border=\"1\" class=\"dataframe\">\n",
       "  <thead>\n",
       "    <tr style=\"text-align: right;\">\n",
       "      <th></th>\n",
       "      <th>x</th>\n",
       "      <th>y</th>\n",
       "    </tr>\n",
       "  </thead>\n",
       "  <tbody>\n",
       "    <tr>\n",
       "      <th>0</th>\n",
       "      <td>[-0.7155903261257552, -0.880709621580645]</td>\n",
       "      <td>0.0</td>\n",
       "    </tr>\n",
       "    <tr>\n",
       "      <th>1</th>\n",
       "      <td>[-1.0299017852289423, -0.9457035981394053]</td>\n",
       "      <td>0.0</td>\n",
       "    </tr>\n",
       "    <tr>\n",
       "      <th>2</th>\n",
       "      <td>[-0.9605756958677788, -0.749195061815823]</td>\n",
       "      <td>0.0</td>\n",
       "    </tr>\n",
       "    <tr>\n",
       "      <th>3</th>\n",
       "      <td>[-0.19850850378008655, -0.2879290589794897]</td>\n",
       "      <td>0.0</td>\n",
       "    </tr>\n",
       "    <tr>\n",
       "      <th>4</th>\n",
       "      <td>[-2.220616628661944, -0.8048836480699838]</td>\n",
       "      <td>0.0</td>\n",
       "    </tr>\n",
       "    <tr>\n",
       "      <th>...</th>\n",
       "      <td>...</td>\n",
       "      <td>...</td>\n",
       "    </tr>\n",
       "    <tr>\n",
       "      <th>1995</th>\n",
       "      <td>[1.098108034005638, 1.0550218854437536]</td>\n",
       "      <td>1.0</td>\n",
       "    </tr>\n",
       "    <tr>\n",
       "      <th>1996</th>\n",
       "      <td>[0.6253098757542184, 1.3319311550770636]</td>\n",
       "      <td>1.0</td>\n",
       "    </tr>\n",
       "    <tr>\n",
       "      <th>1997</th>\n",
       "      <td>[1.1180906909627757, 0.7042493696278938]</td>\n",
       "      <td>1.0</td>\n",
       "    </tr>\n",
       "    <tr>\n",
       "      <th>1998</th>\n",
       "      <td>[0.8878614719799565, 0.26596265245876216]</td>\n",
       "      <td>1.0</td>\n",
       "    </tr>\n",
       "    <tr>\n",
       "      <th>1999</th>\n",
       "      <td>[1.1318337379898753, 0.2719989189268417]</td>\n",
       "      <td>1.0</td>\n",
       "    </tr>\n",
       "  </tbody>\n",
       "</table>\n",
       "<p>2000 rows × 2 columns</p>\n",
       "</div>"
      ],
      "text/plain": [
       "                                                x    y\n",
       "0       [-0.7155903261257552, -0.880709621580645]  0.0\n",
       "1      [-1.0299017852289423, -0.9457035981394053]  0.0\n",
       "2       [-0.9605756958677788, -0.749195061815823]  0.0\n",
       "3     [-0.19850850378008655, -0.2879290589794897]  0.0\n",
       "4       [-2.220616628661944, -0.8048836480699838]  0.0\n",
       "...                                           ...  ...\n",
       "1995      [1.098108034005638, 1.0550218854437536]  1.0\n",
       "1996     [0.6253098757542184, 1.3319311550770636]  1.0\n",
       "1997     [1.1180906909627757, 0.7042493696278938]  1.0\n",
       "1998    [0.8878614719799565, 0.26596265245876216]  1.0\n",
       "1999     [1.1318337379898753, 0.2719989189268417]  1.0\n",
       "\n",
       "[2000 rows x 2 columns]"
      ]
     },
     "execution_count": 61,
     "metadata": {},
     "output_type": "execute_result"
    }
   ],
   "source": [
    "train_df"
   ]
  },
  {
   "cell_type": "code",
   "execution_count": null,
   "id": "02693415",
   "metadata": {},
   "outputs": [],
   "source": []
  }
 ],
 "metadata": {
  "kernelspec": {
   "display_name": "Python 3",
   "language": "python",
   "name": "python3"
  },
  "language_info": {
   "codemirror_mode": {
    "name": "ipython",
    "version": 3
   },
   "file_extension": ".py",
   "mimetype": "text/x-python",
   "name": "python",
   "nbconvert_exporter": "python",
   "pygments_lexer": "ipython3",
   "version": "3.8.8"
  }
 },
 "nbformat": 4,
 "nbformat_minor": 5
}
