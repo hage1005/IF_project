{
 "cells": [
  {
   "cell_type": "code",
   "execution_count": 1,
   "id": "8cda78d6",
   "metadata": {},
   "outputs": [],
   "source": [
    "import numpy as np\n",
    "import pandas as pd"
   ]
  },
  {
   "cell_type": "code",
   "execution_count": 2,
   "id": "1ebcf21c",
   "metadata": {},
   "outputs": [],
   "source": [
    "mu, sigma = 0, 0.1 # mean and standard deviation\n",
    "x_class1 = np.random.normal(-1, 0.5, size = [1000,1])\n",
    "y_class1 = np.zeros(1000, dtype=np.int8)\n",
    "x_class2 = np.random.normal(1, 0.5, size = [1000,1])\n",
    "y_class2 = np.ones(1000, dtype=np.int8)"
   ]
  },
  {
   "cell_type": "code",
   "execution_count": 3,
   "id": "67a6b589",
   "metadata": {},
   "outputs": [],
   "source": [
    "train_dict = {\"x\": [str(x.tolist()) for x in np.concatenate((x_class1, x_class2))], \n",
    "      \"y\": np.concatenate((y_class1, y_class2))}"
   ]
  },
  {
   "cell_type": "code",
   "execution_count": 4,
   "id": "72df5993",
   "metadata": {},
   "outputs": [],
   "source": [
    "train_df = pd.DataFrame.from_dict(train_dict)"
   ]
  },
  {
   "cell_type": "code",
   "execution_count": 5,
   "id": "761eee31",
   "metadata": {},
   "outputs": [],
   "source": [
    "test_d = {\"x\": np.array(['[-1.]','[1.]']), \n",
    "  \"y\": np.array([0,1])}"
   ]
  },
  {
   "cell_type": "code",
   "execution_count": 6,
   "id": "8cf0da76",
   "metadata": {},
   "outputs": [],
   "source": [
    "test_df = pd.DataFrame.from_dict(test_d)"
   ]
  },
  {
   "cell_type": "code",
   "execution_count": 7,
   "id": "5d0ce601",
   "metadata": {},
   "outputs": [],
   "source": [
    "train_df.to_csv(\"../data/1D_1000sample_2class_train.csv\")"
   ]
  },
  {
   "cell_type": "code",
   "execution_count": 8,
   "id": "d6278d6c",
   "metadata": {},
   "outputs": [],
   "source": [
    "test_df.to_csv(\"../data/1D_1000sample_2class_test.csv\")"
   ]
  },
  {
   "cell_type": "code",
   "execution_count": null,
   "id": "4f0c86d4",
   "metadata": {},
   "outputs": [],
   "source": []
  }
 ],
 "metadata": {
  "kernelspec": {
   "display_name": "Python 3",
   "language": "python",
   "name": "python3"
  },
  "language_info": {
   "codemirror_mode": {
    "name": "ipython",
    "version": 3
   },
   "file_extension": ".py",
   "mimetype": "text/x-python",
   "name": "python",
   "nbconvert_exporter": "python",
   "pygments_lexer": "ipython3",
   "version": "3.8.8"
  }
 },
 "nbformat": 4,
 "nbformat_minor": 5
}
