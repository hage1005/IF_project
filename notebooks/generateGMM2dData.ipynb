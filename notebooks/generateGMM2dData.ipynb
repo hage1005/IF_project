{
 "cells": [
  {
   "cell_type": "code",
   "execution_count": 9,
   "id": "8cda78d6",
   "metadata": {},
   "outputs": [],
   "source": [
    "import numpy as np\n",
    "import pandas as pd\n",
    "import matplotlib.pyplot as plt\n",
    "from matplotlib.colors import ListedColormap\n"
   ]
  },
  {
   "cell_type": "code",
   "execution_count": 72,
   "id": "1ebcf21c",
   "metadata": {},
   "outputs": [],
   "source": [
    "mu, sigma = 0, 0.1 # mean and standard deviation\n",
    "x_class1 = np.random.normal(-1, 0.5, size = [1000,2])\n",
    "y_class1 = np.zeros(1000, dtype=np.int8)\n",
    "x_class2 = np.random.normal(1, 0.5, size = [1000,2])\n",
    "y_class2 = np.ones(1000, dtype=np.int8)"
   ]
  },
  {
   "cell_type": "code",
   "execution_count": 74,
   "id": "67a6b589",
   "metadata": {},
   "outputs": [],
   "source": [
    "train_dict = {\"x\": [str(x.tolist()) for x in np.concatenate((x_class1, x_class2))], \n",
    "      \"y\": np.concatenate((y_class1, y_class2))}"
   ]
  },
  {
   "cell_type": "code",
   "execution_count": 75,
   "id": "72df5993",
   "metadata": {},
   "outputs": [],
   "source": [
    "train_df = pd.DataFrame.from_dict(train_dict)"
   ]
  },
  {
   "cell_type": "code",
   "execution_count": 76,
   "id": "761eee31",
   "metadata": {},
   "outputs": [],
   "source": [
    "test_d = {\"x\": np.array(['[-1., -1.]','[1., 1.]']), \n",
    "  \"y\": np.array([0,1])}"
   ]
  },
  {
   "cell_type": "code",
   "execution_count": 77,
   "id": "8cf0da76",
   "metadata": {},
   "outputs": [],
   "source": [
    "test_df = pd.DataFrame.from_dict(test_d)"
   ]
  },
  {
   "cell_type": "code",
   "execution_count": 78,
   "id": "5d0ce601",
   "metadata": {},
   "outputs": [],
   "source": [
    "train_df.to_csv(\"../data/2D_1000sample_2class_train.csv\")"
   ]
  },
  {
   "cell_type": "code",
   "execution_count": 79,
   "id": "d6278d6c",
   "metadata": {},
   "outputs": [],
   "source": [
    "test_df.to_csv(\"../data/2D_1000sample_2class_test.csv\")"
   ]
  },
  {
   "cell_type": "code",
   "execution_count": 3,
   "id": "4f0c86d4",
   "metadata": {},
   "outputs": [],
   "source": [
    "train_df = pd.read_csv(\"../data/2D_1000sample_2class_train.csv\")"
   ]
  },
  {
   "cell_type": "code",
   "execution_count": 4,
   "id": "136c8ad8",
   "metadata": {},
   "outputs": [
    {
     "data": {
      "text/html": [
       "<div>\n",
       "<style scoped>\n",
       "    .dataframe tbody tr th:only-of-type {\n",
       "        vertical-align: middle;\n",
       "    }\n",
       "\n",
       "    .dataframe tbody tr th {\n",
       "        vertical-align: top;\n",
       "    }\n",
       "\n",
       "    .dataframe thead th {\n",
       "        text-align: right;\n",
       "    }\n",
       "</style>\n",
       "<table border=\"1\" class=\"dataframe\">\n",
       "  <thead>\n",
       "    <tr style=\"text-align: right;\">\n",
       "      <th></th>\n",
       "      <th>Unnamed: 0</th>\n",
       "      <th>x</th>\n",
       "      <th>y</th>\n",
       "    </tr>\n",
       "  </thead>\n",
       "  <tbody>\n",
       "    <tr>\n",
       "      <th>0</th>\n",
       "      <td>0</td>\n",
       "      <td>[-0.5322751719490647, -0.5723359910194031]</td>\n",
       "      <td>0</td>\n",
       "    </tr>\n",
       "    <tr>\n",
       "      <th>1</th>\n",
       "      <td>1</td>\n",
       "      <td>[-0.8988650316146273, -0.9127641545568741]</td>\n",
       "      <td>0</td>\n",
       "    </tr>\n",
       "    <tr>\n",
       "      <th>2</th>\n",
       "      <td>2</td>\n",
       "      <td>[-0.24348518650304485, -0.7562057492907801]</td>\n",
       "      <td>0</td>\n",
       "    </tr>\n",
       "    <tr>\n",
       "      <th>3</th>\n",
       "      <td>3</td>\n",
       "      <td>[-1.4298598670760994, -1.2714669821260995]</td>\n",
       "      <td>0</td>\n",
       "    </tr>\n",
       "    <tr>\n",
       "      <th>4</th>\n",
       "      <td>4</td>\n",
       "      <td>[-0.9878201468278955, -1.671879173575752]</td>\n",
       "      <td>0</td>\n",
       "    </tr>\n",
       "    <tr>\n",
       "      <th>...</th>\n",
       "      <td>...</td>\n",
       "      <td>...</td>\n",
       "      <td>...</td>\n",
       "    </tr>\n",
       "    <tr>\n",
       "      <th>1995</th>\n",
       "      <td>1995</td>\n",
       "      <td>[0.78373010793745, 1.3879261137217191]</td>\n",
       "      <td>1</td>\n",
       "    </tr>\n",
       "    <tr>\n",
       "      <th>1996</th>\n",
       "      <td>1996</td>\n",
       "      <td>[1.1458974728431273, 1.0283727319499822]</td>\n",
       "      <td>1</td>\n",
       "    </tr>\n",
       "    <tr>\n",
       "      <th>1997</th>\n",
       "      <td>1997</td>\n",
       "      <td>[0.895894426835087, 1.5740760123735074]</td>\n",
       "      <td>1</td>\n",
       "    </tr>\n",
       "    <tr>\n",
       "      <th>1998</th>\n",
       "      <td>1998</td>\n",
       "      <td>[1.1926560166270763, 0.9328025526718435]</td>\n",
       "      <td>1</td>\n",
       "    </tr>\n",
       "    <tr>\n",
       "      <th>1999</th>\n",
       "      <td>1999</td>\n",
       "      <td>[0.6406125925924089, 1.2588092178730896]</td>\n",
       "      <td>1</td>\n",
       "    </tr>\n",
       "  </tbody>\n",
       "</table>\n",
       "<p>2000 rows × 3 columns</p>\n",
       "</div>"
      ],
      "text/plain": [
       "      Unnamed: 0                                            x  y\n",
       "0              0   [-0.5322751719490647, -0.5723359910194031]  0\n",
       "1              1   [-0.8988650316146273, -0.9127641545568741]  0\n",
       "2              2  [-0.24348518650304485, -0.7562057492907801]  0\n",
       "3              3   [-1.4298598670760994, -1.2714669821260995]  0\n",
       "4              4    [-0.9878201468278955, -1.671879173575752]  0\n",
       "...          ...                                          ... ..\n",
       "1995        1995       [0.78373010793745, 1.3879261137217191]  1\n",
       "1996        1996     [1.1458974728431273, 1.0283727319499822]  1\n",
       "1997        1997      [0.895894426835087, 1.5740760123735074]  1\n",
       "1998        1998     [1.1926560166270763, 0.9328025526718435]  1\n",
       "1999        1999     [0.6406125925924089, 1.2588092178730896]  1\n",
       "\n",
       "[2000 rows x 3 columns]"
      ]
     },
     "execution_count": 4,
     "metadata": {},
     "output_type": "execute_result"
    }
   ],
   "source": [
    "train_df"
   ]
  },
  {
   "cell_type": "code",
   "execution_count": 15,
   "id": "c3602c3f",
   "metadata": {},
   "outputs": [
    {
     "data": {
      "text/plain": [
       "<matplotlib.legend.Legend at 0x7fc2946b1100>"
      ]
     },
     "execution_count": 15,
     "metadata": {},
     "output_type": "execute_result"
    },
    {
     "data": {
      "image/png": "[encoded data removed]",
      "text/plain": [
       "<Figure size 432x288 with 1 Axes>"
      ]
     },
     "metadata": {
      "needs_background": "light"
     },
     "output_type": "display_data"
    }
   ],
   "source": [
    "x_axis = [eval(x)[0] for x in train_df['x']]\n",
    "y_axis = [eval(x)[1] for x in train_df['x']]\n",
    "cls = [x for x in train_df['y']]\n",
    "classes = ['mean(-1,-1)', 'mean(1,1)']\n",
    "colours = ListedColormap(['r','b'])\n",
    "scatter = plt.scatter(x_axis, y_axis, c= cls, cmap=colours)\n",
    "plt.legend(handles=scatter.legend_elements()[0], labels=classes)"
   ]
  },
  {
   "cell_type": "code",
   "execution_count": null,
   "id": "3401b4e5",
   "metadata": {},
   "outputs": [],
   "source": []
  }
 ],
 "metadata": {
  "kernelspec": {
   "display_name": "Python 3",
   "language": "python",
   "name": "python3"
  },
  "language_info": {
   "codemirror_mode": {
    "name": "ipython",
    "version": 3
   },
   "file_extension": ".py",
   "mimetype": "text/x-python",
   "name": "python",
   "nbconvert_exporter": "python",
   "pygments_lexer": "ipython3",
   "version": "3.8.8"
  }
 },
 "nbformat": 4,
 "nbformat_minor": 5
}
