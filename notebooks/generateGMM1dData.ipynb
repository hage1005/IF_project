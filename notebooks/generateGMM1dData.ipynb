{
 "cells": [
  {
   "cell_type": "code",
   "execution_count": 20,
   "id": "8cda78d6",
   "metadata": {},
   "outputs": [],
   "source": [
    "import numpy as np\n",
    "import pandas as pd"
   ]
  },
  {
   "cell_type": "code",
   "execution_count": 21,
   "id": "1ebcf21c",
   "metadata": {},
   "outputs": [],
   "source": [
    "mu, sigma = 0, 0.1 # mean and standard deviation\n",
    "x_class1 = np.random.normal(-1, 0.5, 1000)\n",
    "y_class1 = np.zeros(1000)\n",
    "x_class2 = np.random.normal(1, 0.5, 1000)\n",
    "y_class2 = np.ones(1000)"
   ]
  },
  {
   "cell_type": "code",
   "execution_count": 23,
   "id": "67a6b589",
   "metadata": {},
   "outputs": [],
   "source": [
    "train_dict = {\"x\": np.concatenate((x_class1, x_class2)), \n",
    "      \"y\": np.concatenate((y_class1, y_class2))}"
   ]
  },
  {
   "cell_type": "code",
   "execution_count": 26,
   "id": "72df5993",
   "metadata": {},
   "outputs": [],
   "source": [
    "train_df = pd.DataFrame.from_dict(d)"
   ]
  },
  {
   "cell_type": "code",
   "execution_count": 31,
   "id": "761eee31",
   "metadata": {},
   "outputs": [],
   "source": [
    "test_d = {\"x\": np.array([-1,1]), \n",
    "  \"y\": np.array([0,1])}"
   ]
  },
  {
   "cell_type": "code",
   "execution_count": 32,
   "id": "8cf0da76",
   "metadata": {},
   "outputs": [],
   "source": [
    "test_df = pd.DataFrame.from_dict(test_d)"
   ]
  },
  {
   "cell_type": "code",
   "execution_count": null,
   "id": "5d0ce601",
   "metadata": {},
   "outputs": [],
   "source": [
    "train_df.to_csv(\"\")"
   ]
  }
 ],
 "metadata": {
  "kernelspec": {
   "display_name": "Python 3",
   "language": "python",
   "name": "python3"
  },
  "language_info": {
   "codemirror_mode": {
    "name": "ipython",
    "version": 3
   },
   "file_extension": ".py",
   "mimetype": "text/x-python",
   "name": "python",
   "nbconvert_exporter": "python",
   "pygments_lexer": "ipython3",
   "version": "3.9.6"
  }
 },
 "nbformat": 4,
 "nbformat_minor": 5
}
