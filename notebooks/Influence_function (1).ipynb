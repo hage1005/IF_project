{
 "cells": [
  {
   "cell_type": "markdown",
   "metadata": {
    "id": "XFxE-wjQAjzJ"
   },
   "source": [
    "# IF on MNIST"
   ]
  },
  {
   "cell_type": "code",
   "execution_count": null,
   "metadata": {
    "id": "SLpy25HXAqml"
   },
   "outputs": [],
   "source": [
    "import numpy as np\n",
    "import pandas as pd\n",
    "import matplotlib.pyplot as plt\n",
    "from matplotlib.pyplot import scatter\n",
    "from sklearn.linear_model import LinearRegression\n",
    "from sklearn.model_selection import train_test_split\n",
    "from sklearn.metrics import r2_score\n",
    "import torch\n",
    "from torch.autograd.functional import hessian\n",
    "import torch.nn.functional as F"
   ]
  },
  {
   "cell_type": "code",
   "execution_count": null,
   "metadata": {
    "id": "iszzRiJ7MC-q"
   },
   "outputs": [],
   "source": [
    "import torch\n",
    "import torch.nn as nn\n",
    "import torchvision\n",
    "import torchvision.transforms as transforms\n",
    "from torch.utils.data import Dataset, DataLoader\n",
    "\n",
    "import numpy as np\n",
    "import pandas as pd\n",
    "import matplotlib.pyplot as plt\n",
    "from matplotlib.pyplot import scatter\n",
    "from sklearn.linear_model import LinearRegression\n",
    "import sklearn.metrics\n",
    "\n",
    "device = torch.device(\"cuda\" if torch.cuda.is_available() else \"cpu\")"
   ]
  },
  {
   "cell_type": "markdown",
   "metadata": {
    "id": "LMMPQJ0NLwkl"
   },
   "source": [
    "## Hessian on MOG with torch"
   ]
  },
  {
   "cell_type": "code",
   "execution_count": null,
   "metadata": {
    "colab": {
     "base_uri": "https://localhost:8080/",
     "height": 283
    },
    "executionInfo": {
     "elapsed": 494,
     "status": "ok",
     "timestamp": 1658626807889,
     "user": {
      "displayName": "Xuhui Liu",
      "userId": "15595036758181582104"
     },
     "user_tz": 420
    },
    "id": "1FIdsu2QA6Ot",
    "outputId": "5f1db7c1-1eff-4140-a9db-d1a8c119a85a"
   },
   "outputs": [
    {
     "data": {
      "text/plain": [
       "<matplotlib.collections.PathCollection at 0x7fba0aaeced0>"
      ]
     },
     "execution_count": 64,
     "metadata": {},
     "output_type": "execute_result"
    },
    {
     "data": {
      "image/png": "[encoded data removed]",
      "text/plain": [
       "<Figure size 432x288 with 1 Axes>"
      ]
     },
     "metadata": {
      "needs_background": "light"
     },
     "output_type": "display_data"
    }
   ],
   "source": [
    "xx = np.array([0, 1])\n",
    "yy = np.array([0, 1])\n",
    "means = [xx.mean(), yy.mean()]  \n",
    "stds = [xx.std()/3, yy.std()/3]\n",
    "corr = 0.7         # correlation\n",
    "covs = [[stds[0]**2          , stds[0]*stds[1]*corr], \n",
    "        [stds[0]*stds[1]*corr,           stds[1]**2]] \n",
    "\n",
    "m = np.random.multivariate_normal(means, covs, num_train).T\n",
    "scatter(m[0], m[1])"
   ]
  },
  {
   "cell_type": "code",
   "execution_count": null,
   "metadata": {
    "colab": {
     "base_uri": "https://localhost:8080/"
    },
    "executionInfo": {
     "elapsed": 555,
     "status": "ok",
     "timestamp": 1658626824250,
     "user": {
      "displayName": "Xuhui Liu",
      "userId": "15595036758181582104"
     },
     "user_tz": 420
    },
    "id": "rRVzYmrGCsGu",
    "outputId": "e6a8bb3e-883e-4181-e209-5977a6e2c1b3"
   },
   "outputs": [
    {
     "data": {
      "text/plain": [
       "(0.5183731213232194, 0.6370802042618113)"
      ]
     },
     "execution_count": 65,
     "metadata": {},
     "output_type": "execute_result"
    }
   ],
   "source": [
    "x_1, y_1 = m.T[0]\n",
    "x_1, y_1"
   ]
  },
  {
   "cell_type": "code",
   "execution_count": null,
   "metadata": {
    "id": "v3k3NdMaBkB9"
   },
   "outputs": [],
   "source": [
    "model = LinearRegression()\n",
    "model.fit(np.array([m.T[:,0]]).T, m.T[:,1])\n",
    "\n",
    "k, b = model.coef_[0], model.intercept_"
   ]
  },
  {
   "cell_type": "code",
   "execution_count": null,
   "metadata": {
    "colab": {
     "base_uri": "https://localhost:8080/"
    },
    "executionInfo": {
     "elapsed": 170,
     "status": "ok",
     "timestamp": 1658626825859,
     "user": {
      "displayName": "Xuhui Liu",
      "userId": "15595036758181582104"
     },
     "user_tz": 420
    },
    "id": "iAtCA2wjBoik",
    "outputId": "34e26576-15c0-45de-ab25-ed213729e969"
   },
   "outputs": [
    {
     "data": {
      "text/plain": [
       "(tensor([0.7132], dtype=torch.float64, requires_grad=True),\n",
       " tensor([0.1427], dtype=torch.float64, requires_grad=True))"
      ]
     },
     "execution_count": 67,
     "metadata": {},
     "output_type": "execute_result"
    }
   ],
   "source": [
    "k = torch.tensor([k], requires_grad=True)\n",
    "b = torch.tensor([b], requires_grad=True)\n",
    "k, b"
   ]
  },
  {
   "cell_type": "code",
   "execution_count": null,
   "metadata": {
    "colab": {
     "base_uri": "https://localhost:8080/"
    },
    "executionInfo": {
     "elapsed": 157,
     "status": "ok",
     "timestamp": 1658627243413,
     "user": {
      "displayName": "Xuhui Liu",
      "userId": "15595036758181582104"
     },
     "user_tz": 420
    },
    "id": "XniNC4SBC7Bg",
    "outputId": "69b4b4b4-ddc7-41b3-932e-b4066b07e730"
   },
   "outputs": [
    {
     "data": {
      "text/plain": [
       "tensor([0.7132, 0.1427], dtype=torch.float64)"
      ]
     },
     "execution_count": 74,
     "metadata": {},
     "output_type": "execute_result"
    }
   ],
   "source": [
    "w = torch.tensor([k, b])\n",
    "w"
   ]
  },
  {
   "cell_type": "code",
   "execution_count": null,
   "metadata": {
    "id": "9sHR4NaQKOVg"
   },
   "outputs": [],
   "source": [
    "def parent_mse_loss(w, x, y):\n",
    "    def MSE_loss(w):\n",
    "        return (torch.dot(w,torch.tensor([x, 1]))-y)**2\n",
    "    return MSE_loss\n",
    "\n",
    "def MSE_loss_all(w):\n",
    "    Loss = 0\n",
    "    for i in range(num_train):\n",
    "        Loss = Loss + (torch.dot(w,torch.tensor([m.T[i][0], 1]))-m.T[i][1])**2\n",
    "    return Loss"
   ]
  },
  {
   "cell_type": "code",
   "execution_count": null,
   "metadata": {
    "colab": {
     "base_uri": "https://localhost:8080/"
    },
    "executionInfo": {
     "elapsed": 1607,
     "status": "ok",
     "timestamp": 1658626829751,
     "user": {
      "displayName": "Xuhui Liu",
      "userId": "15595036758181582104"
     },
     "user_tz": 420
    },
    "id": "VfsWYzEOJgT8",
    "outputId": "6416ac1f-c568-4ab8-9c28-4bdffa54c6d5"
   },
   "outputs": [
    {
     "data": {
      "text/plain": [
       "tensor([[0.5548, 0.9984],\n",
       "        [0.9984, 2.0000]], dtype=torch.float64)"
      ]
     },
     "execution_count": 70,
     "metadata": {},
     "output_type": "execute_result"
    }
   ],
   "source": [
    "Hessian = torch.zeros([2,2])\n",
    "for i in range(num_train):\n",
    "    Hessian = Hessian + hessian(parent_mse_loss(w, m.T[i][0], m.T[i][1]), w)\n",
    "Hessian/num_train"
   ]
  },
  {
   "cell_type": "code",
   "execution_count": null,
   "metadata": {
    "colab": {
     "base_uri": "https://localhost:8080/"
    },
    "executionInfo": {
     "elapsed": 565,
     "status": "ok",
     "timestamp": 1658627266284,
     "user": {
      "displayName": "Xuhui Liu",
      "userId": "15595036758181582104"
     },
     "user_tz": 420
    },
    "id": "MIgFsJAe3Pta",
    "outputId": "ee8c0624-6be5-4dc2-e268-d72b928b202a"
   },
   "outputs": [
    {
     "data": {
      "text/plain": [
       "tensor([[0.5548, 0.9984],\n",
       "        [0.9984, 2.0000]], dtype=torch.float64)"
      ]
     },
     "execution_count": 75,
     "metadata": {},
     "output_type": "execute_result"
    }
   ],
   "source": [
    "hessian(MSE_loss_all, w)/num_train"
   ]
  },
  {
   "cell_type": "markdown",
   "metadata": {
    "id": "EirtzWVFL0l0"
   },
   "source": [
    "## Hessian on MNIST"
   ]
  },
  {
   "cell_type": "markdown",
   "metadata": {
    "id": "4d6uUU5rMMQQ"
   },
   "source": [
    "### Set up before training"
   ]
  },
  {
   "cell_type": "code",
   "execution_count": null,
   "metadata": {
    "id": "9UvFQaZDL7DZ"
   },
   "outputs": [],
   "source": [
    "train_dataset = torchvision.datasets.MNIST(root=\"./data\", train=True, transform=transforms.ToTensor(), download = True)\n",
    "test_dataset = torchvision.datasets.MNIST(root=\"./data\", train=False, transform=transforms.ToTensor(), download = True)"
   ]
  },
  {
   "cell_type": "code",
   "execution_count": null,
   "metadata": {
    "id": "pWKGSTXtMWBX"
   },
   "outputs": [],
   "source": [
    "input_size = 784 # 28*28\n",
    "hidden_size = 32\n",
    "num_classes = 10\n",
    "num_epochs = 50\n",
    "batch_size = 50 #100\n",
    "learning_rate = 0.001\n",
    "\n",
    "training_size = 3000\n",
    "testing_size = 1000"
   ]
  },
  {
   "cell_type": "code",
   "execution_count": null,
   "metadata": {
    "id": "bPxms_lUMtod"
   },
   "outputs": [],
   "source": [
    "np.random.seed(35)\n",
    "training_selector = np.random.choice(range(60000), replace = False, size = training_size)\n",
    "testing_selector = np.random.choice(range(10000), replace = False, size = testing_size)"
   ]
  },
  {
   "cell_type": "code",
   "execution_count": null,
   "metadata": {
    "id": "LJf3HBsLMz8F"
   },
   "outputs": [],
   "source": [
    "class Alpha_Train_Dataset(Dataset):\n",
    "  def __init__(self):\n",
    "      \n",
    "      self.x = train_dataset.data[training_selector].float()\n",
    "      self.y = train_dataset.targets[training_selector]\n",
    "      \n",
    "      #self.n_samples = int(train_dataset.data.shape[0]*alpha)\n",
    "      self.n_samples = len(training_selector)\n",
    "\n",
    "  def __getitem__(self, index):\n",
    "      return self.x[index], self.y[index]\n",
    "  def __len__(self):\n",
    "      return self.n_samples\n",
    "\n",
    "class Alpha_Test_Dataset(Dataset):\n",
    "  def __init__(self):\n",
    "      \n",
    "      self.x = test_dataset.data[testing_selector].float()#[random_selector].float()\n",
    "      self.y = test_dataset.targets[testing_selector]#[random_selector]\n",
    "      \n",
    "      self.n_samples = len(testing_selector)\n",
    "\n",
    "  def __getitem__(self, index):\n",
    "      return self.x[index], self.y[index]\n",
    "  def __len__(self):\n",
    "      return self.n_samples"
   ]
  },
  {
   "cell_type": "code",
   "execution_count": null,
   "metadata": {
    "id": "wdKO3dm6NKbX"
   },
   "outputs": [],
   "source": [
    "class NeuralNet(nn.Module):\n",
    "  def __init__(self, input_size, hidden_size, num_classes):\n",
    "    super(NeuralNet, self).__init__()\n",
    "    self.l1 = nn.Linear(input_size, hidden_size)\n",
    "    self.relu = nn.ReLU()\n",
    "    self.l2 = nn.Linear(hidden_size, num_classes)\n",
    "  \n",
    "  def forward(self, x):\n",
    "    out = self.l1(x)\n",
    "    out = self.relu(out)\n",
    "    out = self.l2(out)\n",
    "    return out"
   ]
  },
  {
   "cell_type": "markdown",
   "metadata": {
    "id": "5CXudkreNaa_"
   },
   "source": [
    "### Training"
   ]
  },
  {
   "cell_type": "code",
   "execution_count": null,
   "metadata": {
    "id": "FnCXlVVCNlrb"
   },
   "outputs": [],
   "source": [
    "alpha_train_dataset = Alpha_Train_Dataset()\n",
    "train_loader = torch.utils.data.DataLoader(dataset=alpha_train_dataset, batch_size=batch_size, shuffle=True)\n",
    "\n",
    "model = NeuralNet(input_size, hidden_size, num_classes).to(device)\n",
    "criterion = nn.CrossEntropyLoss()\n",
    "optimizer = torch.optim.Adam(model.parameters(), lr = learning_rate)\n",
    "\n",
    "for epoch in range(num_epochs):\n",
    "    for i, (images, labels) in enumerate(train_loader):\n",
    "        # 100, 1, 28, 28\n",
    "        images = images.reshape(-1, 28*28).to(device) # can change -1 to 100\n",
    "        labels = labels.to(device)\n",
    "\n",
    "        # forward\n",
    "        outputs = model(images)\n",
    "        loss = criterion(outputs, labels)\n",
    "\n",
    "        # backward\n",
    "        optimizer.zero_grad()\n",
    "        loss.backward()\n",
    "        optimizer.step()\n",
    "\n",
    "alpha_test_dataset = Alpha_Test_Dataset()\n",
    "test_loader = torch.utils.data.DataLoader(dataset=alpha_test_dataset, batch_size=batch_size, shuffle=False)\n",
    "\n",
    "with torch.no_grad():\n",
    "    n_correct = 0\n",
    "    n_samples = 0\n",
    "    for images, labels in test_loader:\n",
    "        # 把一个batch reshape 成一个 100 by 784 的 vector 来做prediction\n",
    "        images = images.reshape(-1, 28*28).to(device)\n",
    "        labels = labels.to(device)\n",
    "        output = model(images)\n",
    "        # value, index\n",
    "        _, predictions = torch.max(output, 1)\n",
    "        n_samples += labels.shape[0]\n",
    "        n_correct += (predictions == labels).sum().item()\n",
    "    acc = 100 * n_correct/n_samples"
   ]
  },
  {
   "cell_type": "code",
   "execution_count": null,
   "metadata": {
    "colab": {
     "base_uri": "https://localhost:8080/"
    },
    "executionInfo": {
     "elapsed": 179,
     "status": "ok",
     "timestamp": 1658787506319,
     "user": {
      "displayName": "Xuhui Liu",
      "userId": "15595036758181582104"
     },
     "user_tz": 420
    },
    "id": "FWmYk9WxwRtx",
    "outputId": "15f6bc6b-d67a-4c50-a7fe-e7ed3b92e385"
   },
   "outputs": [
    {
     "data": {
      "text/plain": [
       "87.9"
      ]
     },
     "execution_count": 10,
     "metadata": {},
     "output_type": "execute_result"
    }
   ],
   "source": [
    "acc"
   ]
  },
  {
   "cell_type": "code",
   "execution_count": null,
   "metadata": {
    "id": "oj4s7_U3PpNy"
   },
   "outputs": [],
   "source": [
    "# with torch.no_grad():\n",
    "#     out = model(alpha_train_dataset[0][0].reshape(-1, 784).to(device))\n",
    "#     loss = criterion(out, torch.tensor([alpha_train_dataset[0][1]]))\n",
    "#     print(loss)"
   ]
  },
  {
   "cell_type": "markdown",
   "metadata": {
    "id": "vIaZsTl3FKSm"
   },
   "source": [
    "### Calculate Hessian"
   ]
  },
  {
   "cell_type": "code",
   "execution_count": null,
   "metadata": {
    "id": "s1NeaPNLT81M"
   },
   "outputs": [],
   "source": [
    "def CE_loss(w_1, b_1, w_2, b_2):\n",
    "    out1 = F.linear(alpha_train_dataset[1][0].reshape(-1, 784).to(device), w_1.reshape(hidden_size,784), b_1)\n",
    "    out2 = F.relu(out1)\n",
    "    out3 = F.linear(out2, w_2.reshape(10,hidden_size), b_2)\n",
    "    loss = criterion(out3, torch.tensor([alpha_train_dataset[1][1]]).to(device))\n",
    "    return loss\n",
    "\n",
    "def CE_loss_new(w):\n",
    "    divide1 = hidden_size*784\n",
    "    divide2 = divide1 + hidden_size\n",
    "    divide3 = divide2 + hidden_size*10\n",
    "    out1 = F.linear(alpha_train_dataset[2][0].reshape(-1, 784).to(device), w[:divide1].reshape(hidden_size,784), w[divide1:divide2])\n",
    "    out2 = F.relu(out1)\n",
    "    out3 = F.linear(out2, w[divide2:divide3].reshape(10,hidden_size), w[divide3:])\n",
    "    loss = criterion(out3, torch.tensor([alpha_train_dataset[2][1]]).to(device))\n",
    "    return loss\n",
    "\n",
    "def CE_loss_new_all(w):\n",
    "    divide1 = hidden_size*784\n",
    "    divide2 = divide1 + hidden_size\n",
    "    divide3 = divide2 + hidden_size*10\n",
    "\n",
    "    Loss = []\n",
    "    for i in range(training_size):\n",
    "        out1 = F.linear(alpha_train_dataset[i][0].reshape(-1, 784).to(device), w[:divide1].reshape(hidden_size,784), w[divide1:divide2])\n",
    "        out2 = F.relu(out1)\n",
    "        out3 = F.linear(out2, w[divide2:divide3].reshape(10,hidden_size), w[divide3:])\n",
    "        loss = criterion(out3, torch.tensor([alpha_train_dataset[i][1]]).to(device))\n",
    "        Loss.append(loss)\n",
    "    return sum(Loss)\n",
    "\n",
    "def CE_loss_new_all2(w):\n",
    "    divide1 = hidden_size*784\n",
    "    divide2 = divide1 + hidden_size\n",
    "    divide3 = divide2 + hidden_size*10\n",
    "    \n",
    "    train_loader = torch.utils.data.DataLoader(dataset=alpha_train_dataset, batch_size=training_size, shuffle=False)\n",
    "    examples = iter(train_loader)\n",
    "    images, labels = examples.next()\n",
    "\n",
    "    out1 = F.linear(images.reshape(-1, 784).to(device), w[:divide1].reshape(hidden_size,784), w[divide1:divide2])\n",
    "    out2 = F.relu(out1)\n",
    "    out3 = F.linear(out2, w[divide2:divide3].reshape(10,hidden_size), w[divide3:])\n",
    "    loss = criterion(out3, labels.to(device))\n",
    "\n",
    "    return loss"
   ]
  },
  {
   "cell_type": "code",
   "execution_count": null,
   "metadata": {
    "id": "gZkhgwZiYy8x"
   },
   "outputs": [],
   "source": [
    "#w_1, b_1, w_2, b_2 = list(model.parameters())\n",
    "#w_1, b_1, w_2, b_2 = [_.view(-1) for _ in model.parameters()]\n",
    "#CE_loss(w_1, b_1, w_2, b_2)"
   ]
  },
  {
   "cell_type": "code",
   "execution_count": null,
   "metadata": {
    "id": "AIqemlTD0F_g"
   },
   "outputs": [],
   "source": [
    "# w = torch.cat(tuple([_.view(-1) for _ in model.parameters()]))\n",
    "# CE_loss_new_all2(w)"
   ]
  },
  {
   "cell_type": "code",
   "execution_count": null,
   "metadata": {
    "id": "qWILjjYkqv1a"
   },
   "outputs": [],
   "source": [
    "#with torch.no_grad():\n",
    "#    H = hessian(CE_loss, tuple([_.view(-1) for _ in model.parameters()]))\n",
    "with torch.no_grad():\n",
    "   Hessian = hessian(CE_loss_new_all2, torch.cat(tuple([_.view(-1) for _ in model.parameters()])))"
   ]
  },
  {
   "cell_type": "code",
   "execution_count": null,
   "metadata": {
    "id": "btfZd7JS07ie"
   },
   "outputs": [],
   "source": [
    "# with torch.no_grad():\n",
    "#    Hessian = hessian(CE_loss_new, torch.cat(tuple([_.view(-1) for _ in model.parameters()])))"
   ]
  },
  {
   "cell_type": "code",
   "execution_count": null,
   "metadata": {
    "id": "yIgNAYrhKObS"
   },
   "outputs": [],
   "source": [
    "np_Hessian = Hessian.to(\"cpu\").numpy()/training_size"
   ]
  },
  {
   "cell_type": "code",
   "execution_count": null,
   "metadata": {
    "colab": {
     "base_uri": "https://localhost:8080/"
    },
    "executionInfo": {
     "elapsed": 2739,
     "status": "ok",
     "timestamp": 1658787683905,
     "user": {
      "displayName": "Xuhui Liu",
      "userId": "15595036758181582104"
     },
     "user_tz": 420
    },
    "id": "K88RBFXt-u8i",
    "outputId": "3dafb358-dbd2-471e-9d94-47f26ae9374d"
   },
   "outputs": [
    {
     "data": {
      "text/plain": [
       "array([[0.01, 0.  , 0.  , ..., 0.  , 0.  , 0.  ],\n",
       "       [0.  , 0.01, 0.  , ..., 0.  , 0.  , 0.  ],\n",
       "       [0.  , 0.  , 0.01, ..., 0.  , 0.  , 0.  ],\n",
       "       ...,\n",
       "       [0.  , 0.  , 0.  , ..., 0.01, 0.  , 0.  ],\n",
       "       [0.  , 0.  , 0.  , ..., 0.  , 0.01, 0.  ],\n",
       "       [0.  , 0.  , 0.  , ..., 0.  , 0.  , 0.01]])"
      ]
     },
     "execution_count": 15,
     "metadata": {},
     "output_type": "execute_result"
    }
   ],
   "source": [
    "damping_matrix = np.diag(np.full(Hessian.shape[0],0.01),0)\n",
    "damping_matrix"
   ]
  },
  {
   "cell_type": "code",
   "execution_count": null,
   "metadata": {
    "id": "RAdohm0u0IDk"
   },
   "outputs": [],
   "source": [
    "damping_hessian = np_Hessian + damping_matrix"
   ]
  },
  {
   "cell_type": "markdown",
   "metadata": {
    "id": "DyO1MVd8eGrf"
   },
   "source": [
    "#### Save hessian"
   ]
  },
  {
   "cell_type": "code",
   "execution_count": null,
   "metadata": {
    "colab": {
     "base_uri": "https://localhost:8080/"
    },
    "executionInfo": {
     "elapsed": 43887,
     "status": "ok",
     "timestamp": 1658780544766,
     "user": {
      "displayName": "Xuhui Liu",
      "userId": "15595036758181582104"
     },
     "user_tz": 420
    },
    "id": "SrbZfQXL7h2b",
    "outputId": "05bfb561-f4d0-4dd7-fd57-e29594d6f031"
   },
   "outputs": [
    {
     "name": "stdout",
     "output_type": "stream",
     "text": [
      "Mounted at /content/gdrive\n"
     ]
    }
   ],
   "source": [
    "from google.colab import drive\n",
    "drive.mount('/content/gdrive')"
   ]
  },
  {
   "cell_type": "code",
   "execution_count": null,
   "metadata": {
    "id": "vMf5UYoK7qDZ"
   },
   "outputs": [],
   "source": [
    "np.save(\"/content/gdrive/MyDrive/hessian_damping_32_hiddensize\", damping_hessian)"
   ]
  },
  {
   "cell_type": "markdown",
   "metadata": {
    "id": "dSgli-9oeH4-"
   },
   "source": [
    "#### Save model weight"
   ]
  },
  {
   "cell_type": "code",
   "execution_count": null,
   "metadata": {
    "id": "rf1cJO-IdmE_"
   },
   "outputs": [],
   "source": [
    "w = torch.cat(tuple([_.view(-1) for _ in model.parameters()]))\n",
    "np_w = w.to(\"cpu\").detach().numpy()"
   ]
  },
  {
   "cell_type": "code",
   "execution_count": null,
   "metadata": {
    "id": "6D1QYMAheJT2"
   },
   "outputs": [],
   "source": [
    "np.save(\"/content/gdrive/MyDrive/model_weight_32_hiddensize\", np_w)"
   ]
  },
  {
   "cell_type": "markdown",
   "metadata": {
    "id": "VzjV0IcKe4Bw"
   },
   "source": [
    "#### Load hessian and weight"
   ]
  },
  {
   "cell_type": "code",
   "execution_count": null,
   "metadata": {
    "id": "n7bQUQCG9dLo"
   },
   "outputs": [],
   "source": [
    "np_Hessian = np.load(\"/content/gdrive/MyDrive/hessian_damping_32_hiddensize.npy\")"
   ]
  },
  {
   "cell_type": "code",
   "execution_count": null,
   "metadata": {
    "id": "xqyRvqB9e9Nq"
   },
   "outputs": [],
   "source": [
    "np_w = np.load(\"/content/gdrive/MyDrive/model_weight_32_hiddensize.npy\")"
   ]
  },
  {
   "cell_type": "code",
   "execution_count": null,
   "metadata": {
    "id": "WQw7OZKECBon"
   },
   "outputs": [],
   "source": [
    "inv_hessian = np.linalg.inv(np_Hessian)"
   ]
  },
  {
   "cell_type": "code",
   "execution_count": null,
   "metadata": {
    "id": "yV78qj6nD-jG"
   },
   "outputs": [],
   "source": [
    "np.save(\"/content/gdrive/MyDrive/hessian_damping_inverse_32_hiddensize\", inv_hessian)"
   ]
  },
  {
   "cell_type": "markdown",
   "metadata": {
    "id": "PYiIwDPSFvz2"
   },
   "source": [
    "### Calculate loss at test point and train point"
   ]
  },
  {
   "cell_type": "markdown",
   "metadata": {
    "id": "WYVnDC2ZUGHO"
   },
   "source": [
    "test point"
   ]
  },
  {
   "cell_type": "code",
   "execution_count": null,
   "metadata": {
    "id": "uR70_ZLdf77H"
   },
   "outputs": [],
   "source": [
    "alpha_train_dataset = Alpha_Train_Dataset()\n",
    "alpha_test_dataset = Alpha_Test_Dataset()\n",
    "criterion = nn.CrossEntropyLoss()"
   ]
  },
  {
   "cell_type": "code",
   "execution_count": null,
   "metadata": {
    "colab": {
     "base_uri": "https://localhost:8080/",
     "height": 282
    },
    "executionInfo": {
     "elapsed": 413,
     "status": "ok",
     "timestamp": 1658789239343,
     "user": {
      "displayName": "Xuhui Liu",
      "userId": "15595036758181582104"
     },
     "user_tz": 420
    },
    "id": "-y6360DjTvl1",
    "outputId": "90dcc8d0-f5b0-4a69-eac8-b19a3ac50b73"
   },
   "outputs": [
    {
     "data": {
      "text/plain": [
       "<matplotlib.image.AxesImage at 0x7efd46212950>"
      ]
     },
     "execution_count": 14,
     "metadata": {},
     "output_type": "execute_result"
    },
    {
     "data": {
      "image/png": "[encoded data removed]",
      "text/plain": [
       "<Figure size 432x288 with 1 Axes>"
      ]
     },
     "metadata": {
      "needs_background": "light"
     },
     "output_type": "display_data"
    }
   ],
   "source": [
    "target_example = alpha_test_dataset[10][0] # it's a 9\n",
    "plt.imshow(target_example, cmap = \"gray\")"
   ]
  },
  {
   "cell_type": "code",
   "execution_count": null,
   "metadata": {
    "id": "y4swSRrBE4um"
   },
   "outputs": [],
   "source": [
    "def loss_grad_at_point(w, train_point):\n",
    "    # w should be torch.cat(tuple([_.view(-1) for _ in model.parameters()]))\n",
    "    # train_point should be alpha_train_dataset[0], a tuple of image and label\n",
    "\n",
    "    w = w.clone().detach().requires_grad_(True)\n",
    "\n",
    "    divide1 = hidden_size*784\n",
    "    divide2 = divide1 + hidden_size\n",
    "    divide3 = divide2 + hidden_size*10\n",
    "\n",
    "    out1 = F.linear(train_point[0].reshape(-1, 784).to(device), w[:divide1].reshape(hidden_size,784), w[divide1:divide2])\n",
    "    out2 = F.relu(out1)\n",
    "    out3 = F.linear(out2, w[divide2:divide3].reshape(10,hidden_size), w[divide3:])\n",
    "\n",
    "    loss = criterion(out3, torch.tensor([train_point[1]]).to(device))\n",
    "    loss.backward()\n",
    "\n",
    "    return w.grad"
   ]
  },
  {
   "cell_type": "code",
   "execution_count": null,
   "metadata": {
    "id": "4-0e4Hm2fI_Z"
   },
   "outputs": [],
   "source": [
    "w = torch.tensor(np_w).to(device)"
   ]
  },
  {
   "cell_type": "markdown",
   "metadata": {
    "id": "RAVaKP3HWiri"
   },
   "source": [
    "### Calculate if score"
   ]
  },
  {
   "cell_type": "code",
   "execution_count": null,
   "metadata": {
    "id": "yzsnT5MeVpUp"
   },
   "outputs": [],
   "source": [
    "def calculate_if(train_point, test_point, inv_Hessian):\n",
    "    # test point should be alpha_test_dataset[10]\n",
    "\n",
    "    test_loss = loss_grad_at_point(w, test_point).to(\"cpu\").numpy()\n",
    "\n",
    "    train_loss = loss_grad_at_point(w, train_point).to(\"cpu\").numpy()\n",
    "\n",
    "    if_score = -np.matmul(np.matmul(test_loss.T, inv_Hessian), train_loss)\n",
    "\n",
    "    return if_score"
   ]
  },
  {
   "cell_type": "code",
   "execution_count": null,
   "metadata": {
    "id": "5rMsj4pgi3E1"
   },
   "outputs": [],
   "source": [
    "if_score_list = []\n",
    "for i in range(training_size):\n",
    "    if_score = calculate_if(alpha_train_dataset[i], alpha_test_dataset[10], inv_hessian)\n",
    "    if_score_list.append(if_score)"
   ]
  },
  {
   "cell_type": "markdown",
   "metadata": {
    "id": "JkZeYRSgmGdT"
   },
   "source": [
    "### Result"
   ]
  },
  {
   "cell_type": "code",
   "execution_count": null,
   "metadata": {
    "id": "lMYI1zpfmIb8"
   },
   "outputs": [],
   "source": [
    "if_score_series = pd.Series(if_score_list)"
   ]
  },
  {
   "cell_type": "code",
   "execution_count": null,
   "metadata": {
    "id": "fh_XQKGrmIej"
   },
   "outputs": [],
   "source": [
    "if_score_series_sorted = if_score_series.sort_values(ascending = False)"
   ]
  },
  {
   "cell_type": "code",
   "execution_count": null,
   "metadata": {
    "colab": {
     "base_uri": "https://localhost:8080/"
    },
    "executionInfo": {
     "elapsed": 8,
     "status": "ok",
     "timestamp": 1658790182304,
     "user": {
      "displayName": "Xuhui Liu",
      "userId": "15595036758181582104"
     },
     "user_tz": 420
    },
    "id": "KLFSrTw7mXAF",
    "outputId": "817cffc3-2c78-47af-b173-bf9294c43dd0"
   },
   "outputs": [
    {
     "data": {
      "text/plain": [
       "2626    3149.055834\n",
       "337     3130.842761\n",
       "1888    2546.111956\n",
       "2999    2050.485827\n",
       "779     1238.974530\n",
       "           ...     \n",
       "649     -675.471066\n",
       "1495    -981.742855\n",
       "1953   -1273.110408\n",
       "2989   -2615.931615\n",
       "192    -8228.046355\n",
       "Length: 3000, dtype: float64"
      ]
     },
     "execution_count": 24,
     "metadata": {},
     "output_type": "execute_result"
    }
   ],
   "source": [
    "if_score_series_sorted"
   ]
  },
  {
   "cell_type": "code",
   "execution_count": null,
   "metadata": {
    "id": "JxAzhUNvqlK_"
   },
   "outputs": [],
   "source": [
    "np.save(\"/content/gdrive/MyDrive/if_scores_32_hiddensize\", np.array(if_score_list))"
   ]
  },
  {
   "cell_type": "markdown",
   "metadata": {
    "id": "T_FNNWuGqXGg"
   },
   "source": [
    "#### Plot the result"
   ]
  },
  {
   "cell_type": "code",
   "execution_count": null,
   "metadata": {
    "colab": {
     "base_uri": "https://localhost:8080/",
     "height": 282
    },
    "executionInfo": {
     "elapsed": 225,
     "status": "ok",
     "timestamp": 1658791279923,
     "user": {
      "displayName": "Xuhui Liu",
      "userId": "15595036758181582104"
     },
     "user_tz": 420
    },
    "id": "fKDNCL_lmbxl",
    "outputId": "62d27783-fa87-4fcc-be77-36b2e593bb90"
   },
   "outputs": [
    {
     "data": {
      "text/plain": [
       "<matplotlib.image.AxesImage at 0x7ef96bd90610>"
      ]
     },
     "execution_count": 35,
     "metadata": {},
     "output_type": "execute_result"
    },
    {
     "data": {
      "image/png": "[encoded data removed]",
      "text/plain": [
       "<Figure size 432x288 with 1 Axes>"
      ]
     },
     "metadata": {
      "needs_background": "light"
     },
     "output_type": "display_data"
    }
   ],
   "source": [
    "train_example = alpha_train_dataset[2989][0]\n",
    "plt.imshow(train_example, cmap = \"gray\")"
   ]
  },
  {
   "cell_type": "code",
   "execution_count": null,
   "metadata": {
    "colab": {
     "base_uri": "https://localhost:8080/",
     "height": 284
    },
    "executionInfo": {
     "elapsed": 770,
     "status": "ok",
     "timestamp": 1658792416129,
     "user": {
      "displayName": "Xuhui Liu",
      "userId": "15595036758181582104"
     },
     "user_tz": 420
    },
    "id": "SybIVWU4qBwf",
    "outputId": "d400ee09-ed4a-4579-f38f-43ae3c2868da"
   },
   "outputs": [
    {
     "data": {
      "text/plain": [
       "<matplotlib.image.AxesImage at 0x7ef96ac3d8d0>"
      ]
     },
     "execution_count": 53,
     "metadata": {},
     "output_type": "execute_result"
    },
    {
     "data": {
      "image/png": "[encoded data removed]",
      "text/plain": [
       "<Figure size 432x288 with 6 Axes>"
      ]
     },
     "metadata": {
      "needs_background": "light"
     },
     "output_type": "display_data"
    }
   ],
   "source": [
    "import matplotlib.pyplot as plt\n",
    "\n",
    "\n",
    "fig, axs = plt.subplots(2, 3)\n",
    "axs[0][0].imshow(alpha_train_dataset[2989][0], cmap = \"gray\")\n",
    "axs[0][1].imshow(alpha_train_dataset[1953][0], cmap = \"gray\")\n",
    "axs[0][2].imshow(alpha_train_dataset[1495][0], cmap = \"gray\")\n",
    "axs[1][0].imshow(alpha_train_dataset[2626][0], cmap = \"gray\")\n",
    "axs[1][1].imshow(alpha_train_dataset[337][0], cmap = \"gray\")\n",
    "axs[1][2].imshow(alpha_train_dataset[1888][0], cmap = \"gray\")\n"
   ]
  }
 ],
 "metadata": {
  "colab": {
   "authorship_tag": "ABX9TyMcJgBdvYegqTG/CNGMqOCs",
   "collapsed_sections": [
    "LMMPQJ0NLwkl"
   ],
   "name": "Influence_function.ipynb",
   "provenance": []
  },
  "kernelspec": {
   "display_name": "Python 3.6.13 ('IF')",
   "language": "python",
   "name": "python3"
  },
  "language_info": {
   "codemirror_mode": {
    "name": "ipython",
    "version": 3
   },
   "file_extension": ".py",
   "mimetype": "text/x-python",
   "name": "python",
   "nbconvert_exporter": "python",
   "pygments_lexer": "ipython3",
   "version": "3.6.13"
  },
  "vscode": {
   "interpreter": {
    "hash": "84915b8db892fea99981bc0c3b33051053d7cc2a5ff26ce875112143d3665604"
   }
  }
 },
 "nbformat": 4,
 "nbformat_minor": 1
}
