{
 "cells": [
  {
   "cell_type": "code",
   "execution_count": 37,
   "id": "65a9f31a",
   "metadata": {},
   "outputs": [],
   "source": [
    "import torchvision\n",
    "import torch.nn as nn\n",
    "from torchvision.utils import save_image, make_grid\n",
    "import json\n",
    "from src.model import Net\n",
    "import os\n",
    "import torch"
   ]
  },
  {
   "cell_type": "code",
   "execution_count": 4,
   "id": "b6b1213d",
   "metadata": {},
   "outputs": [
    {
     "name": "stdout",
     "output_type": "stream",
     "text": [
      "Files already downloaded and verified\n",
      "Files already downloaded and verified\n"
     ]
    }
   ],
   "source": [
    "\n",
    "trainset = torchvision.datasets.CIFAR10(root='./data', train=True,\n",
    "                                        download=True)\n",
    "\n",
    "testset = torchvision.datasets.CIFAR10(root='./data', train=False,\n",
    "                                        download=True)\n",
    "                                "
   ]
  },
  {
   "cell_type": "code",
   "execution_count": 28,
   "id": "485d8341",
   "metadata": {},
   "outputs": [],
   "source": [
    "# JSON file\n",
    "with open ('outputs/tracIn_test_id_0.json', \"r\") as f:\n",
    "     data = json.loads(f.read())\n"
   ]
  },
  {
   "cell_type": "code",
   "execution_count": 34,
   "id": "4775a814",
   "metadata": {},
   "outputs": [
    {
     "data": {
      "text/plain": [
       "(<PIL.Image.Image image mode=RGB size=32x32 at 0x7F821535F2B0>, 3)"
      ]
     },
     "execution_count": 34,
     "metadata": {},
     "output_type": "execute_result"
    }
   ],
   "source": [
    "trainset[data['helpful'][15]]"
   ]
  },
  {
   "cell_type": "code",
   "execution_count": 36,
   "id": "70a3be8d",
   "metadata": {},
   "outputs": [
    {
     "data": {
      "image/png": "[encoded data removed]",
      "text/plain": [
       "<PIL.Image.Image image mode=RGB size=32x32 at 0x7F821535F6D0>"
      ]
     },
     "execution_count": 36,
     "metadata": {},
     "output_type": "execute_result"
    }
   ],
   "source": [
    "trainset[data['harmful'][15]][0]"
   ]
  },
  {
   "cell_type": "markdown",
   "id": "d01db314",
   "metadata": {},
   "source": []
  }
 ],
 "metadata": {
  "kernelspec": {
   "display_name": "Python 3",
   "language": "python",
   "name": "python3"
  },
  "language_info": {
   "codemirror_mode": {
    "name": "ipython",
    "version": 3
   },
   "file_extension": ".py",
   "mimetype": "text/x-python",
   "name": "python",
   "nbconvert_exporter": "python",
   "pygments_lexer": "ipython3",
   "version": "3.8.8"
  }
 },
 "nbformat": 4,
 "nbformat_minor": 5
}
